{
  "cells": [
    {
      "cell_type": "markdown",
      "metadata": {
        "id": "PtcBjMq7YV3f"
      },
      "source": [
        "# Homework 2 - Recurrent Neural Networks"
      ]
    },
    {
      "cell_type": "markdown",
      "metadata": {
        "id": "Rn-cOk1iZTtR"
      },
      "source": [
        "In this part of the homework we are going to work with Recurrent Neural Networks, in particular GRU. One of the greatest things that Recurrent Neural Networks can do when working with sequences is retaining data from several timesteps in the past. We are going to explore that property by constructing an 'echo' Recurrent Neural Network.\n",
        "\n",
        "The goal here is to make a model that given a sequence of letters or digits will output that same sequence, but with a certain delay. Let's say the input is a string 'abacaba', we want the model to not output anything for 3 steps (delay length), and then output the original string step by step, except the last 3 characters. So, target output is then 'XXXabac', where 'X' is empty output.\n",
        "\n",
        "This is similar to [this notebook](https://github.com/Atcold/pytorch-Deep-Learning/blob/master/09-echo_data.ipynb) (which you should refer to when doing this assignment), except we're working not with a binary string, but with a sequence of integers between 0 and some N. In our case N is 26, which is the number of letters in the alphabet."
      ]
    },
    {
      "cell_type": "markdown",
      "metadata": {
        "id": "npLlE973as6x"
      },
      "source": [
        "## Dataset\n",
        "\n",
        "Let's implement the dataset. In our case, the data is basically infinite, as we can always generate more examples on the fly, so don't need to load anything from disk."
      ]
    },
    {
      "cell_type": "code",
      "execution_count": 215,
      "metadata": {
        "id": "mkEEMyvzIMRx"
      },
      "outputs": [],
      "source": [
        "import math\n",
        "import random\n",
        "import string\n",
        "\n",
        "import torch\n",
        "import torch.nn as nn\n",
        "import torch.optim as optim\n",
        "\n",
        "from matplotlib import pyplot as plt\n",
        "from tqdm.notebook import tqdm, trange\n",
        "\n",
        "torch.manual_seed(1);\n",
        "\n",
        "# Max value of the generated integer. 26 is chosen becuase it's`1 `\n",
        "# the number of letters in English alphabet.\n",
        "N = 26\n",
        "D = 4\n",
        "\n",
        "def idx_to_onehot(x, k=N+1):\n",
        "  \"\"\" Converts the generated integers to one-hot vectors \"\"\"\n",
        "  ones = torch.sparse.torch.eye(k)\n",
        "  shape = x.shape\n",
        "  res = ones.index_select(0, x.view(-1).type(torch.int64))\n",
        "  return res.view(*shape, res.shape[-1])\n",
        "\n",
        "def onehot_to_idx(x):\n",
        "    return torch.argmax(x, dim=2)\n",
        "\n",
        "class EchoDataset(torch.utils.data.IterableDataset):\n",
        "\n",
        "  def __init__(self, delay=4, seq_length=15, size=1000, batch_size=32):\n",
        "    self.delay = delay\n",
        "    self.seq_length = seq_length\n",
        "    self.size = size\n",
        "    self.batch_size = batch_size\n",
        "  \n",
        "  def __len__(self):\n",
        "    return (self.size + self.batch_size - 1) // self.batch_size\n",
        "\n",
        "  def __iter__(self):\n",
        "    \"\"\" Iterable dataset doesn't have to implement __getitem__.\n",
        "        Instead, we only need to implement __iter__ to return\n",
        "        an iterator (or generator).\n",
        "    \"\"\"\n",
        "    ctr = self.size\n",
        "    while ctr > 0:\n",
        "      inp = []\n",
        "      targ = []\n",
        "      for _ in range(min(self.batch_size, ctr)):\n",
        "        seq = torch.tensor([random.choice(range(1, N + 1))\\\n",
        "          for i in range(self.seq_length)], dtype=torch.int64)\n",
        "        result = torch.cat((torch.zeros(self.delay),\\\n",
        "          seq[:self.seq_length - self.delay])).type(torch.int64)\n",
        "        inp.append(seq)\n",
        "        targ.append(result)\n",
        "        ctr -= 1\n",
        "      yield torch.stack(inp), torch.stack(targ)\n",
        "    assert ctr == 0, f'Counter: {ctr}'\n",
        "\n",
        "\n",
        "# Using large batch sizes leads to getting stuck in local minima\n",
        "DELAY = 4\n",
        "DATASET_SIZE = 4000\n",
        "#DATASET_SIZE = 100000\n",
        "BATCH_SIZE = 32\n",
        "ds = EchoDataset(delay=DELAY, size=DATASET_SIZE, batch_size=BATCH_SIZE)"
      ]
    },
    {
      "cell_type": "code",
      "execution_count": 216,
      "metadata": {},
      "outputs": [
        {
          "data": {
            "text/plain": [
              "(tensor([ 0,  0,  0,  0,  2, 21, 19, 13,  2, 19, 10, 17,  4, 18, 12]),\n",
              " tensor([[1., 0., 0., 0., 0., 0., 0., 0., 0., 0., 0., 0., 0., 0., 0., 0., 0., 0.,\n",
              "          0., 0., 0., 0., 0., 0., 0., 0., 0.],\n",
              "         [1., 0., 0., 0., 0., 0., 0., 0., 0., 0., 0., 0., 0., 0., 0., 0., 0., 0.,\n",
              "          0., 0., 0., 0., 0., 0., 0., 0., 0.],\n",
              "         [1., 0., 0., 0., 0., 0., 0., 0., 0., 0., 0., 0., 0., 0., 0., 0., 0., 0.,\n",
              "          0., 0., 0., 0., 0., 0., 0., 0., 0.],\n",
              "         [1., 0., 0., 0., 0., 0., 0., 0., 0., 0., 0., 0., 0., 0., 0., 0., 0., 0.,\n",
              "          0., 0., 0., 0., 0., 0., 0., 0., 0.],\n",
              "         [0., 0., 1., 0., 0., 0., 0., 0., 0., 0., 0., 0., 0., 0., 0., 0., 0., 0.,\n",
              "          0., 0., 0., 0., 0., 0., 0., 0., 0.],\n",
              "         [0., 0., 0., 0., 0., 0., 0., 0., 0., 0., 0., 0., 0., 0., 0., 0., 0., 0.,\n",
              "          0., 0., 0., 1., 0., 0., 0., 0., 0.],\n",
              "         [0., 0., 0., 0., 0., 0., 0., 0., 0., 0., 0., 0., 0., 0., 0., 0., 0., 0.,\n",
              "          0., 1., 0., 0., 0., 0., 0., 0., 0.],\n",
              "         [0., 0., 0., 0., 0., 0., 0., 0., 0., 0., 0., 0., 0., 1., 0., 0., 0., 0.,\n",
              "          0., 0., 0., 0., 0., 0., 0., 0., 0.],\n",
              "         [0., 0., 1., 0., 0., 0., 0., 0., 0., 0., 0., 0., 0., 0., 0., 0., 0., 0.,\n",
              "          0., 0., 0., 0., 0., 0., 0., 0., 0.],\n",
              "         [0., 0., 0., 0., 0., 0., 0., 0., 0., 0., 0., 0., 0., 0., 0., 0., 0., 0.,\n",
              "          0., 1., 0., 0., 0., 0., 0., 0., 0.],\n",
              "         [0., 0., 0., 0., 0., 0., 0., 0., 0., 0., 1., 0., 0., 0., 0., 0., 0., 0.,\n",
              "          0., 0., 0., 0., 0., 0., 0., 0., 0.],\n",
              "         [0., 0., 0., 0., 0., 0., 0., 0., 0., 0., 0., 0., 0., 0., 0., 0., 0., 1.,\n",
              "          0., 0., 0., 0., 0., 0., 0., 0., 0.],\n",
              "         [0., 0., 0., 0., 1., 0., 0., 0., 0., 0., 0., 0., 0., 0., 0., 0., 0., 0.,\n",
              "          0., 0., 0., 0., 0., 0., 0., 0., 0.],\n",
              "         [0., 0., 0., 0., 0., 0., 0., 0., 0., 0., 0., 0., 0., 0., 0., 0., 0., 0.,\n",
              "          1., 0., 0., 0., 0., 0., 0., 0., 0.],\n",
              "         [0., 0., 0., 0., 0., 0., 0., 0., 0., 0., 0., 0., 1., 0., 0., 0., 0., 0.,\n",
              "          0., 0., 0., 0., 0., 0., 0., 0., 0.]]))"
            ]
          },
          "execution_count": 216,
          "metadata": {},
          "output_type": "execute_result"
        }
      ],
      "source": [
        "batch_one = next(iter(ds))\n",
        "item = 0\n",
        "batch_one[0][item], idx_to_onehot(batch_one[0][item])\n",
        "batch_one[1][item], idx_to_onehot(batch_one[1][item])\n",
        "#idx_to_onehot('')"
      ]
    },
    {
      "cell_type": "markdown",
      "metadata": {
        "id": "nNrZqYURcKSl"
      },
      "source": [
        "## Model\n",
        "\n",
        "Now, we want to implement the model. For our purposes, we want to use GRU. The architecture consists of GRU and a decoder. Decoder is responsible for decoding the GRU hidden state to yield a predicting for the next output. The parts you are responsible for filling with your code are marked with `TODO`. "
      ]
    },
    {
      "cell_type": "code",
      "execution_count": 217,
      "metadata": {
        "id": "nigN_o4Mb9Nx"
      },
      "outputs": [],
      "source": [
        "class GRUCell(nn.Module):\n",
        "  def __init__(self, input_size, hidden_size, delay_size=0):\n",
        "    super().__init__()\n",
        "    self.input_size = input_size\n",
        "    self.hidden_size = hidden_size\n",
        "    self.delay_size = delay_size\n",
        "    self.in_dim = input_size + hidden_size + delay_size\n",
        "    self.out_dim = hidden_size\n",
        "    self.reset_gate = nn.Linear(self.in_dim, self.out_dim)\n",
        "    self.update_gate = nn.Linear(self.in_dim, self.out_dim)\n",
        "    self.hidden_gate = nn.Linear(self.in_dim, self.out_dim)\n",
        "    self.tanh = nn.Tanh()\n",
        "    self.act = nn.ReLU()\n",
        "    \n",
        "  def forward(self, x, h, delay=None):\n",
        "    #print(f'GRUCell input shapes x: {x.shape} h: {h.shape}')\n",
        "    assert x.shape[-1] == self.input_size\n",
        "    assert h.shape[-1] == self.hidden_size\n",
        "    if delay is not None:\n",
        "      assert delay.shape[-1] == self.delay_size\n",
        "    assert x.device == h.device, f'X device: {x.device} h device: {h.device}'\n",
        "    if delay is not None:\n",
        "      assert x.device == delay.device,\\\n",
        "        f'X device: {x.device} delay device {delay.device}'\n",
        "    inp = torch.cat([x, h], dim=1)\n",
        "    if delay is not None:\n",
        "      if len(delay.shape) == 1:\n",
        "        delay = delay.unsqueeze(1)\n",
        "      inp = torch.cat([inp, delay], dim=1)\n",
        "    assert x.device == inp.device,\\\n",
        "      f'X device: {x.device} Inp device: {inp.device}'\n",
        "    z_t = self.act(self.update_gate(inp))\n",
        "    r_t = self.act(self.reset_gate(inp))\n",
        "    r_t_h = r_t * h.clone()\n",
        "    inp = torch.cat([x, r_t_h], dim=1)\n",
        "    if delay is not None:\n",
        "      inp = torch.cat([inp, delay], dim=1)\n",
        "    z_t_diff = 1 - z_t\n",
        "    z_t_h = z_t_diff * h.clone()\n",
        "    tanh_out = self.tanh(self.hidden_gate(inp))\n",
        "    z_t_inp = z_t * tanh_out\n",
        "    h_t = z_t_h + z_t_inp \n",
        "    return h_t, h_t\n",
        "\n",
        "class GRULayer(nn.Module):\n",
        "  def __init__(self, input_size, hidden_size, delay_size=0, batch_first=True):\n",
        "    super().__init__()\n",
        "    self.input_size = input_size\n",
        "    self.hidden_size = hidden_size\n",
        "    self.delay_size = delay_size\n",
        "    self.batch_first = batch_first\n",
        "    self.gru_cell = GRUCell(input_size, hidden_size, delay_size)\n",
        "    \n",
        "  def forward(self, x, h, delay=None):\n",
        "    #print(f'GRULayer X shape: {x.shape} h shape: {h.shape}')\n",
        "    seq_len = x.shape[1] if self.batch_first else x.shape[0]\n",
        "\n",
        "    out = []\n",
        "    for i in range(seq_len):\n",
        "      # print(f'GRULayer forward iteration {i}')\n",
        "      if self.batch_first:\n",
        "        y, h = self.gru_cell(x[:,i], h, delay)\n",
        "      else:\n",
        "        y, h = self.gru_cell(x[i], h, delay)\n",
        "      out.append(y)\n",
        "    out = torch.stack(out, dim=1 if self.batch_first else 0)\n",
        "    # print(f'GRU forward out shape: {out.shape}')\n",
        "    return out, h"
      ]
    },
    {
      "cell_type": "code",
      "execution_count": 218,
      "metadata": {},
      "outputs": [],
      "source": [
        "class GRUBase(nn.Module):\n",
        "  def __init__(\n",
        "      self, input_size, hidden_size, output_size, layers, device,\n",
        "      delay_size=0, batch_first=True):\n",
        "    super().__init__()\n",
        "    self.input_size = input_size\n",
        "    self.hidden_size = hidden_size\n",
        "    self.output_size = output_size\n",
        "    self.delay_size = delay_size\n",
        "    self.num_layers = layers\n",
        "    self.device = device\n",
        "    self.batch_first=batch_first\n",
        "    self.lut = {l:  i for i, l in enumerate(string.ascii_lowercase, 1)}\n",
        "    self.lut[' '] = 0\n",
        "    self.reverse_lut = {v: k for k, v in self.lut.items()}\n",
        "    self.h = None\n",
        "\n",
        "  def init_hidden_state(self, batch_size):\n",
        "    if self.batch_first:\n",
        "        self.h = torch.zeros(batch_size, self.num_layers, self.hidden_size)\n",
        "    else:\n",
        "        self.h = torch.zeros(self.num_layers, batch_size, self.hidden_size)\n",
        "    self.h = self.h.to(self.device)\n",
        "\n",
        "  def forward(self, x, delays=None):\n",
        "    raise NotImplementedError\n",
        "\n",
        "  @torch.no_grad()\n",
        "  def test_run(self, s, delay=None):\n",
        "    # This function accepts one string s containing lowercase characters a-z. \n",
        "    # You need to map those characters to one-hot encodings, \n",
        "    # then get the result from your network, and then convert the output \n",
        "    # back to a string of the same length, with 0 mapped to ' ', \n",
        "    # and 1-26 mapped to a-z.\n",
        "    self.init_hidden_state(1)\n",
        "\n",
        "    indices = torch.Tensor([self.lut[let] for let in s])    \n",
        "    one_hot = idx_to_onehot(indices).to(self.device)\n",
        "    unsqueeze_dim = 0 if self.batch_first else 1\n",
        "    one_hot = one_hot.unsqueeze(unsqueeze_dim)\n",
        "    if delay is not None:\n",
        "      delay_tensor = torch.Tensor([delay])\n",
        "      delay_one_hot = idx_to_onehot(\n",
        "        delay_tensor, self.delay_size).to(self.device)\n",
        "    else:\n",
        "      delay_one_hot = None\n",
        "    y = self.forward(one_hot, delay_one_hot)\n",
        "    indices = y.squeeze().argmax(dim=1)\n",
        "    out = ''.join([self.reverse_lut[idx.item()] for idx in indices])\n",
        "    return out"
      ]
    },
    {
      "cell_type": "code",
      "execution_count": 219,
      "metadata": {},
      "outputs": [],
      "source": [
        "\n",
        "class GRUMemory(GRUBase):\n",
        "  def __init__(\n",
        "      self, input_size, hidden_size, output_size, layers, device):\n",
        "    super().__init__(input_size, hidden_size, output_size, layers, device)\n",
        "    self.gru_layer1 = GRULayer(input_size, hidden_size)\n",
        "    self.gru_layer2 = GRULayer(hidden_size, hidden_size)\n",
        "    self.linear = nn.Linear(hidden_size, output_size)\n",
        "    self.layers = [self.gru_layer1, self.gru_layer2]\n",
        "\n",
        "  def forward(self, x, delays=None):\n",
        "    # inputs: x - input tensor of shape (batch_size, seq_length, N+1)\n",
        "    # returns:\n",
        "    # logits (scores for softmax) of shape (batch size, seq_length, N + 1)\n",
        "    assert self.h is not None\n",
        "    batch_size = x.shape[0]\n",
        "    out = x\n",
        "    for i in range(self.num_layers):\n",
        "      layer = self.layers[i]\n",
        "      out, h = layer(out, self.h[:batch_size, i])\n",
        "      self.h[:batch_size, i] = h.detach()\n",
        "    out = self.linear(out)\n",
        "    return out"
      ]
    },
    {
      "cell_type": "code",
      "execution_count": 220,
      "metadata": {},
      "outputs": [],
      "source": [
        "class GRU(GRUBase):\n",
        "    def __init__(self, input_size, hidden_size, output_size,\n",
        "        num_layers, device, dropout=0.0):\n",
        "        super().__init__(input_size, hidden_size, output_size, num_layers,\n",
        "            device)\n",
        "        self.gru = nn.GRU(\n",
        "            input_size=input_size, hidden_size=hidden_size,\n",
        "            num_layers=num_layers, bias=True,\n",
        "            batch_first=True, dropout=dropout, bidirectional=False)\n",
        "        self.linear = nn.Linear(\n",
        "            in_features=hidden_size, out_features=output_size)\n",
        "\n",
        "    def init_hidden_state(self, batch_size):\n",
        "        self.h = torch.zeros(self.num_layers, batch_size, self.hidden_size)\n",
        "        self.h = self.h.to(self.device)\n",
        "\n",
        "    def forward(self, x, delays=None):\n",
        "       assert self.h is not None\n",
        "       batch_size = x.shape[0]\n",
        "       out, h = self.gru(x, self.h[:,:batch_size].contiguous())\n",
        "       out = self.linear(out)\n",
        "       self.h = h.detach()\n",
        "       return out"
      ]
    },
    {
      "cell_type": "markdown",
      "metadata": {
        "id": "A9whwmVu9OIx"
      },
      "source": [
        "## Training\n",
        "Below you need to implement the training of the model. We give you more freedom as for the implementation. The two limitations are that it has to execute within 10 minutes, and that error rate should be below 1%."
      ]
    },
    {
      "cell_type": "code",
      "execution_count": 221,
      "metadata": {},
      "outputs": [],
      "source": [
        "def train(data_stream, num_epochs, model, optimizer, criterion, batch_size,\n",
        "    device='cpu', has_delay=False, batch_first=True, delay_size=9,\n",
        "    verbose=False):\n",
        "    model.train()\n",
        "    epoch_bar = tqdm(range(num_epochs))\n",
        "    train_losses = []\n",
        "    train_accuracies = []\n",
        "    correct = []\n",
        "    cumulative_loss = []\n",
        "    for i in epoch_bar:\n",
        "        correct = []\n",
        "        total = 0\n",
        "        cumulative_loss = []\n",
        "        correct_thresh = 0.73\n",
        "        #model.init_hidden_state(batch_size)\n",
        "        for it_ in tqdm(data_stream, leave=False):\n",
        "            if has_delay:\n",
        "                data, delays, target = it_\n",
        "                delays_one_hot = idx_to_onehot(delays, delay_size)\n",
        "                delays_one_hot = delays_one_hot.to(device)\n",
        "            else:\n",
        "                data, target = it_\n",
        "                delays = None\n",
        "                delays_one_hot = None\n",
        "            model.init_hidden_state(data.shape[0 if batch_first else 1])\n",
        "            data_one_hot = idx_to_onehot(data)\n",
        "            data_one_hot = data_one_hot.to(device)\n",
        "            target_one_hot = idx_to_onehot(target)\n",
        "            target_one_hot = target_one_hot.to(device)\n",
        "            optimizer.zero_grad()\n",
        "            logits = model.forward(data_one_hot, delays_one_hot)\n",
        "            if verbose:\n",
        "                print(f'Train iteration {i} Logits shape: {logits.shape}')\n",
        "                print(f'{logits}')\n",
        "            pred = logits.sigmoid().argmax(dim=2)\n",
        "            loss = criterion(logits, target_one_hot)\n",
        "            \n",
        "            if verbose:\n",
        "                print(f'Train iteration {i} Loss: {loss.shape}')\n",
        "                print(f'{loss}')\n",
        "            \n",
        "            loss.backward()\n",
        "            optimizer.step()\n",
        "            output = pred\n",
        "            perc_correct = (output.cpu() == target).float().mean().item()\n",
        "            if verbose:\n",
        "                print(f'Percent correct {perc_correct}')\n",
        "                print(f'Output shape: {output.shape} Target shape: {target.shape}')\n",
        "                print(f'Output: {output} Target: {target}')\n",
        "            \n",
        "            if perc_correct > correct_thresh:\n",
        "                correct_thresh = perc_correct\n",
        "                \n",
        "            cumulative_loss.append(loss.item())\n",
        "            correct.append(perc_correct)\n",
        "            total += 1\n",
        "\n",
        "        mean_loss = sum(cumulative_loss)/total\n",
        "        mean_correct = sum(correct)/total\n",
        "        train_losses.append(mean_loss)\n",
        "        train_accuracies.append(mean_correct)\n",
        "        epoch_bar.set_postfix(\n",
        "            {\n",
        "                'accuracy': mean_correct,\n",
        "                'loss': mean_loss,\n",
        "            }\n",
        "        )\n",
        "    \n",
        "    if verbose:\n",
        "        print(f'Cumulative_loss: {cumulative_loss}')\n",
        "    plt.figure(dpi=200)\n",
        "    plt.subplot(121)\n",
        "    plt.plot(train_losses, label='train')\n",
        "    #plt.plot(cumulative_loss, label='train')\n",
        "    #plt.xlabel('batch')\n",
        "    plt.xlabel('epoch')\n",
        "    plt.ylabel('loss')\n",
        "    plt.title('Losses')\n",
        "    plt.legend()\n",
        "\n",
        "    if verbose:\n",
        "        print(f'Correct: {correct}')\n",
        "    plt.subplot(122)\n",
        "    plt.plot(train_accuracies, label='train')\n",
        "    #plt.plot(correct, label='train')\n",
        "    plt.legend()\n",
        "    #plt.xlabel('batch')\n",
        "    plt.xlabel('epoch')\n",
        "    plt.ylabel('accuracy')\n",
        "    plt.ylim(0, 1)\n",
        "    plt.title('Accuracies')\n",
        "\n",
        "    plt.tight_layout()"
      ]
    },
    {
      "cell_type": "code",
      "execution_count": 222,
      "metadata": {},
      "outputs": [],
      "source": [
        "device = torch.device(\"cuda:0\" if torch.cuda.is_available() else \"cpu\")"
      ]
    },
    {
      "cell_type": "code",
      "execution_count": 223,
      "metadata": {
        "id": "9lV9BscxCCAI"
      },
      "outputs": [
        {
          "name": "stdout",
          "output_type": "stream",
          "text": [
            "GRU(\n",
            "  (gru): GRU(27, 256, num_layers=2, batch_first=True, dropout=0.3)\n",
            "  (linear): Linear(in_features=256, out_features=27, bias=True)\n",
            ")\n"
          ]
        },
        {
          "data": {
            "application/vnd.jupyter.widget-view+json": {
              "model_id": "283c7697aaee472c86fbbf3a882f4653",
              "version_major": 2,
              "version_minor": 0
            },
            "text/plain": [
              "  0%|          | 0/10 [00:00<?, ?it/s]"
            ]
          },
          "metadata": {},
          "output_type": "display_data"
        },
        {
          "data": {
            "application/vnd.jupyter.widget-view+json": {
              "model_id": "2c0a36ff471a4430976cf458fdc47ce4",
              "version_major": 2,
              "version_minor": 0
            },
            "text/plain": [
              "  0%|          | 0/125 [00:00<?, ?it/s]"
            ]
          },
          "metadata": {},
          "output_type": "display_data"
        },
        {
          "data": {
            "application/vnd.jupyter.widget-view+json": {
              "model_id": "938cec07094f4237a3d0008625f7a35f",
              "version_major": 2,
              "version_minor": 0
            },
            "text/plain": [
              "  0%|          | 0/125 [00:00<?, ?it/s]"
            ]
          },
          "metadata": {},
          "output_type": "display_data"
        },
        {
          "data": {
            "application/vnd.jupyter.widget-view+json": {
              "model_id": "34125ab6c3714ac090436ab020ff1864",
              "version_major": 2,
              "version_minor": 0
            },
            "text/plain": [
              "  0%|          | 0/125 [00:00<?, ?it/s]"
            ]
          },
          "metadata": {},
          "output_type": "display_data"
        },
        {
          "data": {
            "application/vnd.jupyter.widget-view+json": {
              "model_id": "5f1d2daf0c4f4db090c1a86ad9271af2",
              "version_major": 2,
              "version_minor": 0
            },
            "text/plain": [
              "  0%|          | 0/125 [00:00<?, ?it/s]"
            ]
          },
          "metadata": {},
          "output_type": "display_data"
        },
        {
          "data": {
            "application/vnd.jupyter.widget-view+json": {
              "model_id": "b3bb82f833d24c98b57ae42e52931ea6",
              "version_major": 2,
              "version_minor": 0
            },
            "text/plain": [
              "  0%|          | 0/125 [00:00<?, ?it/s]"
            ]
          },
          "metadata": {},
          "output_type": "display_data"
        },
        {
          "data": {
            "application/vnd.jupyter.widget-view+json": {
              "model_id": "8b939471f9f54094afe021bc4ca01c85",
              "version_major": 2,
              "version_minor": 0
            },
            "text/plain": [
              "  0%|          | 0/125 [00:00<?, ?it/s]"
            ]
          },
          "metadata": {},
          "output_type": "display_data"
        },
        {
          "data": {
            "application/vnd.jupyter.widget-view+json": {
              "model_id": "76c3611843b84e49965eeccc1b25081c",
              "version_major": 2,
              "version_minor": 0
            },
            "text/plain": [
              "  0%|          | 0/125 [00:00<?, ?it/s]"
            ]
          },
          "metadata": {},
          "output_type": "display_data"
        },
        {
          "data": {
            "application/vnd.jupyter.widget-view+json": {
              "model_id": "b16e95c9d2b148dd99681bf98a760241",
              "version_major": 2,
              "version_minor": 0
            },
            "text/plain": [
              "  0%|          | 0/125 [00:00<?, ?it/s]"
            ]
          },
          "metadata": {},
          "output_type": "display_data"
        },
        {
          "data": {
            "application/vnd.jupyter.widget-view+json": {
              "model_id": "45417c19119840548bc4efc5e90db4e4",
              "version_major": 2,
              "version_minor": 0
            },
            "text/plain": [
              "  0%|          | 0/125 [00:00<?, ?it/s]"
            ]
          },
          "metadata": {},
          "output_type": "display_data"
        },
        {
          "data": {
            "application/vnd.jupyter.widget-view+json": {
              "model_id": "e049b87959474b4faf17b929dd07fdaa",
              "version_major": 2,
              "version_minor": 0
            },
            "text/plain": [
              "  0%|          | 0/125 [00:00<?, ?it/s]"
            ]
          },
          "metadata": {},
          "output_type": "display_data"
        },
        {
          "data": {
            "image/png": "[encoded data removed]",
            "text/plain": [
              "<Figure size 1200x800 with 2 Axes>"
            ]
          },
          "metadata": {
            "needs_background": "light"
          },
          "output_type": "display_data"
        }
      ],
      "source": [
        "import time\n",
        "start_time = time.time()\n",
        "\n",
        "# TODO: initialize and train your model here.\n",
        "# hidden size of 176 is where training starts working\n",
        "# accuracy never 100% because of hidden state is always carried over\n",
        "# from the previous batch, so first set of hidden inputs are not 0\n",
        "model = GRU(27, 256, 27, 2, device, dropout=0.3)\n",
        "#model = GRUMemory(27, 256, 27, 2, device)\n",
        "model = model.to(device)\n",
        "print(model)\n",
        "\n",
        "criterion = nn.MSELoss()\n",
        "optimizer = optim.RMSprop(\n",
        "    model.parameters(), lr=1e-3, alpha=0.99, eps=1e-08, weight_decay=0.0,\n",
        "    momentum=0.0, centered=False)\n",
        "\n",
        "N_EPOCH = 10\n",
        "#with torch.autograd.set_detect_anomaly(True):\n",
        "train(ds, N_EPOCH, model, optimizer, criterion, BATCH_SIZE, device)\n"
      ]
    },
    {
      "cell_type": "code",
      "execution_count": 224,
      "metadata": {
        "id": "lUZkeRnVTNzG"
      },
      "outputs": [],
      "source": [
        "def test_model(model, sequence_length=15, verbose=False):\n",
        "  \"\"\"\n",
        "  This is the test function that runs 100 different strings through your model,\n",
        "  and checks the error rate.\n",
        "  \"\"\"\n",
        "  total = 0\n",
        "  correct = 0\n",
        "  for i in trange(5):\n",
        "    s = ''.join([random.choice(string.ascii_lowercase)\\\n",
        "      for i in range(random.randint(15, 25))])\n",
        "    result = model.test_run(s)\n",
        "    assert DELAY > 0, 's[:-D] won\\'t work for D=0'\n",
        "    if verbose and i < 5:\n",
        "      print(f'String: {s} Result: {result}')\n",
        "    for c1, c2 in zip(s[:-DELAY], result[DELAY:]):\n",
        "      correct += int(c1 == c2)\n",
        "    total += len(s) - DELAY\n",
        "\n",
        "  return correct / total"
      ]
    },
    {
      "cell_type": "code",
      "execution_count": 225,
      "metadata": {},
      "outputs": [
        {
          "data": {
            "application/vnd.jupyter.widget-view+json": {
              "model_id": "036b616dd22e4a269b43b5ca32f407e3",
              "version_major": 2,
              "version_minor": 0
            },
            "text/plain": [
              "  0%|          | 0/5 [00:00<?, ?it/s]"
            ]
          },
          "metadata": {},
          "output_type": "display_data"
        },
        {
          "name": "stdout",
          "output_type": "stream",
          "text": [
            "tests passed\n"
          ]
        }
      ],
      "source": [
        "\n",
        "end_time = time.time()\n",
        "duration = end_time - start_time\n",
        "accuracy = test_model(model)\n",
        "assert duration < 600, 'execution took f{duration:.2f} seconds, which longer than 10 mins'\n",
        "assert accuracy > 0.99, f'accuracy is too low, got {accuracy}, need 0.99'\n",
        "print('tests passed')"
      ]
    },
    {
      "cell_type": "code",
      "execution_count": 226,
      "metadata": {},
      "outputs": [
        {
          "data": {
            "application/vnd.jupyter.widget-view+json": {
              "model_id": "0cc9f8696137431ba5154f9028e89e4a",
              "version_major": 2,
              "version_minor": 0
            },
            "text/plain": [
              "  0%|          | 0/5 [00:00<?, ?it/s]"
            ]
          },
          "metadata": {},
          "output_type": "display_data"
        },
        {
          "name": "stdout",
          "output_type": "stream",
          "text": [
            "String: svgtoefdpvrjyyfvjnuirxt Result:     svgtoefdpvrjyyfvjnu\n",
            "String: fufwobjnjnuvekoqdwvlej Result:     fufwobjnjnuvekoqdw\n",
            "String: xhzbwulbwmvqipdum Result:     xhzbwulbwmvqi\n",
            "String: yriikxmfsikerlyy Result:     yriikxmfsike\n",
            "String: rrguaoumeghaqqofvjy Result:     rrguaoumeghaqqo\n",
            "1.0\n"
          ]
        }
      ],
      "source": [
        "accuracy = test_model(model, verbose=True)\n",
        "print(accuracy)\n"
      ]
    },
    {
      "cell_type": "markdown",
      "metadata": {
        "id": "sB0EVNBtDhpN"
      },
      "source": [
        "## Variable delay model\n",
        "\n",
        "Now, to make this more complicated, we want to have varialbe delay. So, now, the goal is to transform a sequence of pairs (character, delay) into a character sequence with given delay. Delay stays constant within one sequence."
      ]
    },
    {
      "cell_type": "markdown",
      "metadata": {
        "id": "3i_iwX_AEOCH"
      },
      "source": [
        "### Dataset\n",
        "As before, we first implement the dataset:"
      ]
    },
    {
      "cell_type": "code",
      "execution_count": 227,
      "metadata": {
        "id": "E4G5b8kuEUEd"
      },
      "outputs": [],
      "source": [
        "class VariableDelayEchoDataset(torch.utils.data.IterableDataset):\n",
        "\n",
        "  def __init__(self, max_delay=8, seq_length=20, size=1000, batch_size=32):\n",
        "    self.max_delay = max_delay\n",
        "    self.seq_length = seq_length\n",
        "    self.size = size\n",
        "    self.batch_size = batch_size\n",
        "  \n",
        "  def __len__(self):\n",
        "    return (self.size + self.batch_size - 1) // self.batch_size\n",
        "\n",
        "  def __iter__(self):\n",
        "    i = self.size\n",
        "    while i > 0:\n",
        "      batch = []\n",
        "      input = []\n",
        "      target = []\n",
        "      delays = []\n",
        "      for _ in range(self.batch_size):\n",
        "        seq = torch.tensor(\n",
        "          [random.choice(range(1, N + 1))\n",
        "          for i in range(self.seq_length)], dtype=torch.int64)\n",
        "        delay = random.randint(0, self.max_delay)\n",
        "        result = torch.cat(\n",
        "          (torch.zeros(delay), seq[:self.seq_length - delay])).type(torch.int64)\n",
        "        input.append(seq)\n",
        "        target.append(result)\n",
        "        delays.append(delay)\n",
        "        i -= 1\n",
        "      # seq_len x batch_size\n",
        "      input = torch.stack(input, dim=1)\n",
        "      target = torch.stack(target, dim=1)\n",
        "      # batch_size\n",
        "      delays = torch.Tensor(delays)\n",
        "      yield input, delays, target"
      ]
    },
    {
      "cell_type": "markdown",
      "metadata": {
        "id": "oTRVOND3HEJZ"
      },
      "source": [
        "### Model\n",
        "\n",
        "And the model."
      ]
    },
    {
      "cell_type": "code",
      "execution_count": 228,
      "metadata": {
        "id": "IYolFIB8Hg0U"
      },
      "outputs": [],
      "source": [
        "class VariableDelayGRUMemory(GRUBase):\n",
        "\n",
        "  def __init__(\n",
        "      self, input_size, hidden_size, output_size, max_delay, delay_size,\n",
        "      num_layers, device):\n",
        "    super().__init__(\n",
        "      input_size, hidden_size, output_size, num_layers, device,\n",
        "      delay_size=delay_size, batch_first=False)\n",
        "    self.max_delay = max_delay\n",
        "    assert num_layers > 0, 'Number of gru layers has to be atleast 1'\n",
        "    self.layers = nn.ModuleList([GRULayer(\n",
        "      input_size, hidden_size, delay_size, batch_first=self.batch_first)])\n",
        "    for _ in range(num_layers-1):\n",
        "      self.layers.append(\n",
        "        GRULayer(hidden_size, hidden_size, batch_first=self.batch_first))\n",
        "    self.linear = nn.Linear(hidden_size, output_size)\n",
        "\n",
        "  def forward(self, x, delays):\n",
        "    # inputs:\n",
        "    # x - tensor of shape (seq_length, batch size, N + 1)\n",
        "    # delays - tensor of shape (batch size)\n",
        "    # returns:\n",
        "    # logits (scores for softmax) of shape (seq_length, batch size, N + 1)\n",
        "    assert self.h is not None\n",
        "    batch_size = x.shape[1]\n",
        "    assert self.h.shape[1] == batch_size,\\\n",
        "      f'X shape {x.shape} H shape {self.h.shape}'\n",
        "    out = x\n",
        "    for i in range(self.num_layers):\n",
        "      layer = self.layers[i]\n",
        "      delays = None if i > 0 else delays\n",
        "      out, h = layer(out, self.h[i], delays)\n",
        "      self.h[i] = h.detach()\n",
        "    out = self.linear(out)\n",
        "    return out\n"
      ]
    },
    {
      "cell_type": "markdown",
      "metadata": {
        "id": "riu3qHWgKjsx"
      },
      "source": [
        "### Train\n",
        "\n",
        "As before, you're free to do what you want, as long as training finishes within 10 minutes and accuracy is above 0.99 for delays between 0 and 8."
      ]
    },
    {
      "cell_type": "code",
      "execution_count": 237,
      "metadata": {
        "id": "4FZHojnGO3aw"
      },
      "outputs": [],
      "source": [
        "def test_variable_delay_model(model, seq_length=20):\n",
        "  \"\"\"\n",
        "  This is the test function that runs 100 different strings through your model,\n",
        "  and checks the error rate.\n",
        "  \"\"\"\n",
        "  total = 0\n",
        "  correct = 0\n",
        "  for i in trange(500):\n",
        "    s = ''.join(\n",
        "      [random.choice(string.ascii_lowercase) for i in range(seq_length)])\n",
        "    d = random.randint(0, model.max_delay)\n",
        "    # print(f'String: {s} delay:{d}')\n",
        "    result = model.test_run(s, d)\n",
        "    if d > 0:\n",
        "      z = zip(s[:-d], result[d:])\n",
        "    else:\n",
        "      z = zip(s, result)\n",
        "    for c1, c2 in z:\n",
        "      correct += int(c1 == c2)\n",
        "    total += len(s) - d\n",
        "\n",
        "  return correct / total"
      ]
    },
    {
      "cell_type": "code",
      "execution_count": 234,
      "metadata": {
        "id": "YJ18Ef6vKi4s"
      },
      "outputs": [
        {
          "name": "stdout",
          "output_type": "stream",
          "text": [
            "VariableDelayGRUMemory(\n",
            "  (layers): ModuleList(\n",
            "    (0): GRULayer(\n",
            "      (gru_cell): GRUCell(\n",
            "        (reset_gate): Linear(in_features=548, out_features=512, bias=True)\n",
            "        (update_gate): Linear(in_features=548, out_features=512, bias=True)\n",
            "        (hidden_gate): Linear(in_features=548, out_features=512, bias=True)\n",
            "        (tanh): Tanh()\n",
            "        (act): ReLU()\n",
            "      )\n",
            "    )\n",
            "    (1): GRULayer(\n",
            "      (gru_cell): GRUCell(\n",
            "        (reset_gate): Linear(in_features=1024, out_features=512, bias=True)\n",
            "        (update_gate): Linear(in_features=1024, out_features=512, bias=True)\n",
            "        (hidden_gate): Linear(in_features=1024, out_features=512, bias=True)\n",
            "        (tanh): Tanh()\n",
            "        (act): ReLU()\n",
            "      )\n",
            "    )\n",
            "  )\n",
            "  (linear): Linear(in_features=512, out_features=27, bias=True)\n",
            ")\n"
          ]
        },
        {
          "data": {
            "application/vnd.jupyter.widget-view+json": {
              "model_id": "9e31b7b3223e4e37a213f27f27ca2980",
              "version_major": 2,
              "version_minor": 0
            },
            "text/plain": [
              "  0%|          | 0/25 [00:00<?, ?it/s]"
            ]
          },
          "metadata": {},
          "output_type": "display_data"
        },
        {
          "data": {
            "application/vnd.jupyter.widget-view+json": {
              "model_id": "dcb067e129a442a6bf86bcbc081304a5",
              "version_major": 2,
              "version_minor": 0
            },
            "text/plain": [
              "  0%|          | 0/125 [00:00<?, ?it/s]"
            ]
          },
          "metadata": {},
          "output_type": "display_data"
        },
        {
          "data": {
            "application/vnd.jupyter.widget-view+json": {
              "model_id": "228970f671af492f9a19a785278b8494",
              "version_major": 2,
              "version_minor": 0
            },
            "text/plain": [
              "  0%|          | 0/125 [00:00<?, ?it/s]"
            ]
          },
          "metadata": {},
          "output_type": "display_data"
        },
        {
          "data": {
            "application/vnd.jupyter.widget-view+json": {
              "model_id": "c1feff3c9f5d4bbfab875b57aaacbcd5",
              "version_major": 2,
              "version_minor": 0
            },
            "text/plain": [
              "  0%|          | 0/125 [00:00<?, ?it/s]"
            ]
          },
          "metadata": {},
          "output_type": "display_data"
        },
        {
          "data": {
            "application/vnd.jupyter.widget-view+json": {
              "model_id": "b0df6980252541f0bc5e9b0770b1b67c",
              "version_major": 2,
              "version_minor": 0
            },
            "text/plain": [
              "  0%|          | 0/125 [00:00<?, ?it/s]"
            ]
          },
          "metadata": {},
          "output_type": "display_data"
        },
        {
          "data": {
            "application/vnd.jupyter.widget-view+json": {
              "model_id": "8dcfae43db704981a4fd68042f5b65f3",
              "version_major": 2,
              "version_minor": 0
            },
            "text/plain": [
              "  0%|          | 0/125 [00:00<?, ?it/s]"
            ]
          },
          "metadata": {},
          "output_type": "display_data"
        },
        {
          "data": {
            "application/vnd.jupyter.widget-view+json": {
              "model_id": "28d810ef120d47c1882018c50987c012",
              "version_major": 2,
              "version_minor": 0
            },
            "text/plain": [
              "  0%|          | 0/125 [00:00<?, ?it/s]"
            ]
          },
          "metadata": {},
          "output_type": "display_data"
        },
        {
          "data": {
            "application/vnd.jupyter.widget-view+json": {
              "model_id": "898a876f383e4332be684dd9cc5e889b",
              "version_major": 2,
              "version_minor": 0
            },
            "text/plain": [
              "  0%|          | 0/125 [00:00<?, ?it/s]"
            ]
          },
          "metadata": {},
          "output_type": "display_data"
        },
        {
          "data": {
            "application/vnd.jupyter.widget-view+json": {
              "model_id": "b183d3fa8de942d1b0ac774e7714a80b",
              "version_major": 2,
              "version_minor": 0
            },
            "text/plain": [
              "  0%|          | 0/125 [00:00<?, ?it/s]"
            ]
          },
          "metadata": {},
          "output_type": "display_data"
        },
        {
          "data": {
            "application/vnd.jupyter.widget-view+json": {
              "model_id": "c872d56a703f4929b32077c7523d4185",
              "version_major": 2,
              "version_minor": 0
            },
            "text/plain": [
              "  0%|          | 0/125 [00:00<?, ?it/s]"
            ]
          },
          "metadata": {},
          "output_type": "display_data"
        },
        {
          "data": {
            "application/vnd.jupyter.widget-view+json": {
              "model_id": "aa1902d98548494eb4cc0df99da310ee",
              "version_major": 2,
              "version_minor": 0
            },
            "text/plain": [
              "  0%|          | 0/125 [00:00<?, ?it/s]"
            ]
          },
          "metadata": {},
          "output_type": "display_data"
        },
        {
          "data": {
            "application/vnd.jupyter.widget-view+json": {
              "model_id": "3a7e6d25dc8d4a91b3975b081a900a1a",
              "version_major": 2,
              "version_minor": 0
            },
            "text/plain": [
              "  0%|          | 0/125 [00:00<?, ?it/s]"
            ]
          },
          "metadata": {},
          "output_type": "display_data"
        },
        {
          "data": {
            "application/vnd.jupyter.widget-view+json": {
              "model_id": "057c5cc61cab4477a037d5526063db21",
              "version_major": 2,
              "version_minor": 0
            },
            "text/plain": [
              "  0%|          | 0/125 [00:00<?, ?it/s]"
            ]
          },
          "metadata": {},
          "output_type": "display_data"
        },
        {
          "data": {
            "application/vnd.jupyter.widget-view+json": {
              "model_id": "6b24d34face54feba01f1a7615f38859",
              "version_major": 2,
              "version_minor": 0
            },
            "text/plain": [
              "  0%|          | 0/125 [00:00<?, ?it/s]"
            ]
          },
          "metadata": {},
          "output_type": "display_data"
        },
        {
          "data": {
            "application/vnd.jupyter.widget-view+json": {
              "model_id": "63a6803bb4e2464d8fccad3a70deac7d",
              "version_major": 2,
              "version_minor": 0
            },
            "text/plain": [
              "  0%|          | 0/125 [00:00<?, ?it/s]"
            ]
          },
          "metadata": {},
          "output_type": "display_data"
        },
        {
          "data": {
            "application/vnd.jupyter.widget-view+json": {
              "model_id": "c6815fe2148e450e8b3cb038eb24e78a",
              "version_major": 2,
              "version_minor": 0
            },
            "text/plain": [
              "  0%|          | 0/125 [00:00<?, ?it/s]"
            ]
          },
          "metadata": {},
          "output_type": "display_data"
        },
        {
          "data": {
            "application/vnd.jupyter.widget-view+json": {
              "model_id": "932a73f135f04e34b24d33e716acc4fb",
              "version_major": 2,
              "version_minor": 0
            },
            "text/plain": [
              "  0%|          | 0/125 [00:00<?, ?it/s]"
            ]
          },
          "metadata": {},
          "output_type": "display_data"
        },
        {
          "data": {
            "application/vnd.jupyter.widget-view+json": {
              "model_id": "a40e273732034f73a123189622dd8bdd",
              "version_major": 2,
              "version_minor": 0
            },
            "text/plain": [
              "  0%|          | 0/125 [00:00<?, ?it/s]"
            ]
          },
          "metadata": {},
          "output_type": "display_data"
        },
        {
          "data": {
            "application/vnd.jupyter.widget-view+json": {
              "model_id": "967a0aadc33e46ffaf830a823a09cb4b",
              "version_major": 2,
              "version_minor": 0
            },
            "text/plain": [
              "  0%|          | 0/125 [00:00<?, ?it/s]"
            ]
          },
          "metadata": {},
          "output_type": "display_data"
        },
        {
          "data": {
            "application/vnd.jupyter.widget-view+json": {
              "model_id": "2324748bf4824f0b8f5b253981842535",
              "version_major": 2,
              "version_minor": 0
            },
            "text/plain": [
              "  0%|          | 0/125 [00:00<?, ?it/s]"
            ]
          },
          "metadata": {},
          "output_type": "display_data"
        },
        {
          "data": {
            "application/vnd.jupyter.widget-view+json": {
              "model_id": "bb84d80e5bc0406ba603d739be4a4839",
              "version_major": 2,
              "version_minor": 0
            },
            "text/plain": [
              "  0%|          | 0/125 [00:00<?, ?it/s]"
            ]
          },
          "metadata": {},
          "output_type": "display_data"
        },
        {
          "data": {
            "application/vnd.jupyter.widget-view+json": {
              "model_id": "02d7beba64b44293bd545f5237198a67",
              "version_major": 2,
              "version_minor": 0
            },
            "text/plain": [
              "  0%|          | 0/125 [00:00<?, ?it/s]"
            ]
          },
          "metadata": {},
          "output_type": "display_data"
        },
        {
          "data": {
            "application/vnd.jupyter.widget-view+json": {
              "model_id": "4ba398f56d4640e2b134fce82d2c1e49",
              "version_major": 2,
              "version_minor": 0
            },
            "text/plain": [
              "  0%|          | 0/125 [00:00<?, ?it/s]"
            ]
          },
          "metadata": {},
          "output_type": "display_data"
        },
        {
          "data": {
            "application/vnd.jupyter.widget-view+json": {
              "model_id": "adac339da57140099c3d79962192f54a",
              "version_major": 2,
              "version_minor": 0
            },
            "text/plain": [
              "  0%|          | 0/125 [00:00<?, ?it/s]"
            ]
          },
          "metadata": {},
          "output_type": "display_data"
        },
        {
          "data": {
            "application/vnd.jupyter.widget-view+json": {
              "model_id": "17be837ca0e64ef78545d315fdc4c820",
              "version_major": 2,
              "version_minor": 0
            },
            "text/plain": [
              "  0%|          | 0/125 [00:00<?, ?it/s]"
            ]
          },
          "metadata": {},
          "output_type": "display_data"
        },
        {
          "data": {
            "application/vnd.jupyter.widget-view+json": {
              "model_id": "74eaf17d925044a3907a274b34d733dc",
              "version_major": 2,
              "version_minor": 0
            },
            "text/plain": [
              "  0%|          | 0/125 [00:00<?, ?it/s]"
            ]
          },
          "metadata": {},
          "output_type": "display_data"
        },
        {
          "data": {
            "image/png": "[encoded data removed]",
            "text/plain": [
              "<Figure size 1200x800 with 2 Axes>"
            ]
          },
          "metadata": {
            "needs_background": "light"
          },
          "output_type": "display_data"
        }
      ],
      "source": [
        "import time\n",
        "start_time = time.time()\n",
        "\n",
        "MAX_DELAY = 8\n",
        "SEQ_LENGTH = 20\n",
        "DELAY_SIZE = 9\n",
        "BATCH_SIZE=32\n",
        "\n",
        "var_ds = VariableDelayEchoDataset(\n",
        "    max_delay=MAX_DELAY, seq_length=SEQ_LENGTH, size=DATASET_SIZE,\n",
        "    batch_size=BATCH_SIZE)\n",
        "\n",
        "model = VariableDelayGRUMemory(27, 512, 27, MAX_DELAY, DELAY_SIZE, 2, device)\n",
        "model = model.to(device)\n",
        "print(model)\n",
        "\n",
        "criterion = nn.MSELoss()\n",
        "optimizer = optim.RMSprop(\n",
        "    model.parameters(), lr=1e-3, alpha=0.99, eps=1e-08, weight_decay=0.0,\n",
        "    momentum=0.0, centered=False)\n",
        "\n",
        "N_EPOCH = 25\n",
        "#with torch.autograd.set_detect_anomaly(True):\n",
        "train(\n",
        "    var_ds, N_EPOCH, model, optimizer, criterion, BATCH_SIZE, device,\n",
        "    has_delay=True, batch_first=False, delay_size=DELAY_SIZE)"
      ]
    },
    {
      "cell_type": "code",
      "execution_count": 238,
      "metadata": {},
      "outputs": [
        {
          "data": {
            "application/vnd.jupyter.widget-view+json": {
              "model_id": "ba7ca20a656940a39aeafa40fa3dcbe5",
              "version_major": 2,
              "version_minor": 0
            },
            "text/plain": [
              "  0%|          | 0/500 [00:00<?, ?it/s]"
            ]
          },
          "metadata": {},
          "output_type": "display_data"
        },
        {
          "name": "stdout",
          "output_type": "stream",
          "text": [
            "tests passed\n"
          ]
        }
      ],
      "source": [
        "\n",
        "end_time = time.time()\n",
        "assert end_time - start_time < 600, 'executing took longer than 10 mins'\n",
        "assert test_variable_delay_model(model) > 0.99, 'accuracy is too low'\n",
        "print('tests passed')"
      ]
    },
    {
      "cell_type": "code",
      "execution_count": 236,
      "metadata": {},
      "outputs": [
        {
          "data": {
            "text/plain": [
              "tensor([[1., 0., 0., 0., 0., 0., 0., 0., 0.]])"
            ]
          },
          "execution_count": 236,
          "metadata": {},
          "output_type": "execute_result"
        }
      ],
      "source": [
        "idx_to_onehot(torch.Tensor([0]), 9)"
      ]
    },
    {
      "cell_type": "code",
      "execution_count": null,
      "metadata": {},
      "outputs": [],
      "source": []
    }
  ],
  "metadata": {
    "colab": {
      "collapsed_sections": [
        "JUbvDw31eJvY"
      ],
      "provenance": []
    },
    "kernelspec": {
      "display_name": "Python 3.9.13 ('pDL': conda)",
      "language": "python",
      "name": "python3"
    },
    "language_info": {
      "codemirror_mode": {
        "name": "ipython",
        "version": 3
      },
      "file_extension": ".py",
      "mimetype": "text/x-python",
      "name": "python",
      "nbconvert_exporter": "python",
      "pygments_lexer": "ipython3",
      "version": "3.9.13"
    },
    "vscode": {
      "interpreter": {
        "hash": "730b8a846e5fbc1c9bd432ae5f8035781806fbee589b6661e19f1ae991cfab52"
      }
    }
  },
  "nbformat": 4,
  "nbformat_minor": 0
}
