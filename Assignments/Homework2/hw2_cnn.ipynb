{
  "cells": [
    {
      "cell_type": "markdown",
      "metadata": {
        "id": "CYszeLBT-8AL"
      },
      "source": [
        "# Homework 2 - Convolutional Neural Nets\n",
        "\n",
        "In this homework, we will be working with google [colab](https://colab.research.google.com/). Google colab allows you to run a jupyter notebook on google servers using a GPU or TPU. To enable GPU support, make sure to press Runtime -> Change Runtime Type -> GPU. "
      ]
    },
    {
      "cell_type": "markdown",
      "metadata": {
        "id": "qLI0m6U7_lZt"
      },
      "source": [
        "## Cats vs dogs classification\n",
        "\n",
        "To learn about and experiment with convolutional neural nets we will be working on a problem of great importance in computer vision - classifying images of cats and dogs.\n",
        "\n",
        "The problem is so important that there's even an easter egg in colab: go to Tools -> Settings -> Miscellaneous and enable 'Corgi mode' and 'Kitty mode' to get more cats and dogs to classify when you're tired of coding.\n",
        "\n"
      ]
    },
    {
      "cell_type": "markdown",
      "metadata": {
        "id": "qtsy_bpEC8wp"
      },
      "source": [
        "### Getting the data\n",
        "\n",
        "To get started with the classification, we first need to download and unpack the dataset (note that in jupyter notebooks commands starting with `!` are executed in bash, not in python):"
      ]
    },
    {
      "cell_type": "code",
      "execution_count": 1,
      "metadata": {
        "id": "My247KXGJIHe"
      },
      "outputs": [],
      "source": [
        "#! wget --no-check-certificate \\\n",
        "#    https://storage.googleapis.com/mledu-datasets/cats_and_dogs_filtered.zip \\\n",
        "#    -O ./cats_and_dogs_filtered.zip"
      ]
    },
    {
      "cell_type": "code",
      "execution_count": 2,
      "metadata": {
        "id": "1Wn0Tw69J9FR"
      },
      "outputs": [],
      "source": [
        "%%capture\n",
        "# ! unzip cats_and_dogs_filtered.zip "
      ]
    },
    {
      "cell_type": "markdown",
      "metadata": {
        "id": "kGQA7kgUAHw0"
      },
      "source": [
        "This dataset contains two directories, `train` and `validation`. Both in turn contain two directories with images: `cats` and `dogs`. In `train` we have 1000 images of cats, and another 1000 images of dogs. For `validation`, we have 500 images of each class. Our goal is to implement and train a convolutional neural net to classify these images, i.e. given an image from this dataset, tell if it contains a cat or a dog.\n",
        "\n"
      ]
    },
    {
      "cell_type": "code",
      "execution_count": 3,
      "metadata": {
        "id": "-yqS2szPCVRH"
      },
      "outputs": [
        {
          "name": "stdout",
          "output_type": "stream",
          "text": [
            "Training cats examples: 1000\n",
            "Training dogs examples: 1000\n",
            "Validation cats examples: 500\n",
            "Validation dogs examples: 500\n"
          ]
        }
      ],
      "source": [
        "! echo 'Training cats examples:' $(find cats_and_dogs_filtered/train/cats -type f | wc -l)\n",
        "! echo 'Training dogs examples:' $(find cats_and_dogs_filtered/train/dogs -type f | wc -l)\n",
        "! echo 'Validation cats examples:' $(find cats_and_dogs_filtered/validation/cats -type f | wc -l)\n",
        "! echo 'Validation dogs examples:' $(find cats_and_dogs_filtered/validation/dogs -type f | wc -l)"
      ]
    },
    {
      "cell_type": "markdown",
      "metadata": {
        "id": "Pr8YteOYC4Da"
      },
      "source": [
        "### Loading the data\n",
        " Now that we have the data on our disk, we need to load it so that we can use it to train our model. In Pytorch ecosystem, we use `Dataset` class, documentation for which can be found [here](https://pytorch.org/docs/stable/data.html). \n",
        "\n",
        " In the case of computer vision, the datasets with the folder structure 'label_name/image_file' are very common, and to process those there's already a class `torchvision.datasets.ImageFolder` (documented [here](https://pytorch.org/vision/0.8/datasets.html)). Torchvision is a Pytorch library with many commonly used tools in computer vision.\n",
        "\n",
        " Another thing we need from Torchvision library is transforms ([documentation](https://pytorch.org/docs/stable/torchvision/transforms.html)). In computer vision, we very often want to transform the images in certain ways. The most common is normalization. Others include flipping, changing saturation, hue, contrast, rotation, and blurring. \n",
        "\n",
        " Below, we create a training, validation and test sets. We use a few transforms for augmentation on the training set, but we don't use anything but resize and normalization for validation and test. "
      ]
    },
    {
      "cell_type": "code",
      "execution_count": 4,
      "metadata": {
        "id": "u5nDSr1LLA1s"
      },
      "outputs": [],
      "source": [
        "import torch\n",
        "from torch.utils.data import Dataset, IterableDataset\n",
        "import torchvision\n",
        "from torchvision import transforms\n",
        "from PIL import Image # PIL is a library to process images\n",
        "import math\n",
        "import os, datetime\n",
        "from pathlib import Path\n",
        "\n",
        "# These numbers are mean and std values for channels of natural images. \n",
        "normalize = transforms.Normalize(mean=[0.485, 0.456, 0.406],\n",
        "                                 std=[0.229, 0.224, 0.225])\n",
        "\n",
        "# Inverse transformation: needed for plotting.\n",
        "unnormalize = transforms.Normalize(\n",
        "   mean=[-0.485/0.229, -0.456/0.224, -0.406/0.225],\n",
        "   std=[1/0.229, 1/0.224, 1/0.225]\n",
        ")\n",
        "\n",
        "train_transforms = transforms.Compose([\n",
        "                                    transforms.Resize((256, 256)),\n",
        "                                    transforms.RandomHorizontalFlip(),\n",
        "                                    transforms.ColorJitter(hue=.1, saturation=.1, contrast=.1),\n",
        "                                    transforms.RandomRotation(20, interpolation=transforms.InterpolationMode.BILINEAR),\n",
        "                                    transforms.GaussianBlur(7, sigma=(0.1, 1.0)),\n",
        "                                    transforms.ToTensor(),  # convert PIL to Pytorch Tensor\n",
        "                                    normalize,\n",
        "                                ])\n",
        "\n",
        "validation_transforms = transforms.Compose([\n",
        "                                    transforms.Resize((256, 256)),\n",
        "                                    transforms.RandomHorizontalFlip(),\n",
        "                                    transforms.ColorJitter(hue=.1, saturation=.1, contrast=.1),\n",
        "                                    transforms.RandomRotation(20, interpolation=transforms.InterpolationMode.BILINEAR),\n",
        "                                    transforms.GaussianBlur(7, sigma=(0.1, 1.0)),\n",
        "                                    transforms.ToTensor(), \n",
        "                                    normalize,\n",
        "                                ])\n",
        "\n",
        "train_dataset = torchvision.datasets.ImageFolder('./cats_and_dogs_filtered/train', transform=train_transforms)\n",
        "validation_dataset, test_dataset = torch.utils.data.random_split(torchvision.datasets.ImageFolder('./cats_and_dogs_filtered/validation', transform=validation_transforms), [500, 500], generator=torch.Generator().manual_seed(42))"
      ]
    },
    {
      "cell_type": "code",
      "execution_count": 5,
      "metadata": {},
      "outputs": [],
      "source": [
        "class MultipleImageTransforms(IterableDataset):\n",
        "    def __init__(self, dataset, num_samples, *args, **kwargs):\n",
        "        super().__init__(*args, **kwargs)\n",
        "        self.dataset = dataset\n",
        "        self.num_samples = num_samples\n",
        "    \n",
        "    # def __len__(self):\n",
        "    #    return len(self.dataset)*self.num_samples\n",
        "\n",
        "    # def __get__(self, idx):\n",
        "    #     images = []\n",
        "    #     labels = []\n",
        "    #     for _ in range(self.num_samples):\n",
        "    #         image, label = self.dataset[idx]\n",
        "    #         images.append(image)\n",
        "    #         labels.append(labels)\n",
        "    #     return images, labels\n",
        "    \n",
        "    def __iter__(self):\n",
        "        worker_info = torch.utils.data.get_worker_info()\n",
        "        if worker_info is None:\n",
        "            iter_start = 0\n",
        "            iter_end = len(self.dataset) - 1\n",
        "        else:\n",
        "            per_worker = int(math.ceil(\n",
        "                len(self.dataset) / float(worker_info.num_workers)))\n",
        "            worker_id = worker_info.id\n",
        "            iter_start = worker_id * per_worker\n",
        "            iter_end = min(iter_start + per_worker, len(self.dataset) - 1)\n",
        "        \n",
        "        def transform_iterator(start_idx, end_idx):\n",
        "            for idx in range(start_idx, end_idx+1):\n",
        "                for _ in range(self.num_samples):\n",
        "                    yield self.dataset[idx]\n",
        "    \n",
        "\n",
        "        class ImageTransformIterator:\n",
        "            def __init__(self, parent):\n",
        "                self.parent = parent\n",
        "                self.max = len(parent.dataset)\n",
        "                self.idx = 0\n",
        "                self.sample_idx = 0\n",
        "\n",
        "            def __iter__(self):\n",
        "                self.idx = 0\n",
        "                self.sample_idx = 0\n",
        "                return self\n",
        "            \n",
        "            def __next__(self):\n",
        "                if self.idx < self.max:\n",
        "                    ret = self.parent.dataset[self.idx]\n",
        "                    self.sample_idx += 1\n",
        "                    if self.sample_idx == self.parent.num_samples:\n",
        "                        self.idx += 1\n",
        "                    return ret\n",
        "                raise StopIteration\n",
        "\n",
        "        return transform_iterator(iter_start, iter_end)\n"
      ]
    },
    {
      "cell_type": "code",
      "execution_count": 6,
      "metadata": {},
      "outputs": [
        {
          "data": {
            "text/plain": [
              "32"
            ]
          },
          "execution_count": 6,
          "metadata": {},
          "output_type": "execute_result"
        }
      ],
      "source": [
        "new_validation_dataset = MultipleImageTransforms(\n",
        "  validation_dataset, 5)\n",
        "#next(new_validation_dataset)\n",
        "len(next(iter(torch.utils.data.DataLoader(new_validation_dataset, batch_size=32, num_workers=2)))[0])"
      ]
    },
    {
      "cell_type": "markdown",
      "metadata": {
        "id": "JM4wsBQxFOh-"
      },
      "source": [
        "Let's see what one of the images in the dataset looks like (you can run this cell multiple times to see the effects of different augmentations):"
      ]
    },
    {
      "cell_type": "code",
      "execution_count": 7,
      "metadata": {
        "id": "OvurMzqGLUnX"
      },
      "outputs": [
        {
          "data": {
            "image/png": "[encoded data removed]",
            "text/plain": [
              "<Figure size 432x288 with 1 Axes>"
            ]
          },
          "metadata": {
            "needs_background": "light"
          },
          "output_type": "display_data"
        }
      ],
      "source": [
        "from matplotlib import pyplot as plt\n",
        "plt.rcParams['figure.dpi'] = 200 # change dpi to make plots bigger\n",
        "\n",
        "def show_normalized_image(img, title=None):\n",
        "  plt.imshow(unnormalize(img).detach().cpu().permute(1, 2, 0))\n",
        "  plt.title(title)\n",
        "  plt.axis('off')\n",
        "\n",
        "show_normalized_image(train_dataset[500][0])"
      ]
    },
    {
      "cell_type": "markdown",
      "metadata": {
        "id": "FGPgMBLqFpME"
      },
      "source": [
        "Now is the time to create a model. All models in Pytorch are subclassing `torch.nn.Module`, and have to implement `__init__` and `forward` methods. \n",
        "\n",
        "Below we provide a simple model skeleton, which you need to expand. The places to put your code are marked with `TODO`. Here, we ask you to implement a convolutional neural network containing the following elements:\n",
        "\n",
        "* Convolutional layers (at least two)\n",
        "* Batch Norm\n",
        "* Non-linearity\n",
        "* Pooling layers\n",
        "* A residual connection similar to that of Res-Net\n",
        "* A fully connected layer\n",
        "\n",
        "For some examples of how to implement Pytorch models, please refer to our lab notebooks, such as [this one](https://github.com/Atcold/pytorch-Deep-Learning/blob/master/06-convnet.ipynb)."
      ]
    },
    {
      "cell_type": "code",
      "execution_count": 8,
      "metadata": {},
      "outputs": [
        {
          "data": {
            "text/plain": [
              "tuple"
            ]
          },
          "execution_count": 8,
          "metadata": {},
          "output_type": "execute_result"
        }
      ],
      "source": [
        "train_dataset[1001][0].shape\n",
        "type(train_dataset[0])"
      ]
    },
    {
      "cell_type": "markdown",
      "metadata": {
        "id": "Y8MytjMIFl18"
      },
      "source": [
        "### Creating the model"
      ]
    },
    {
      "cell_type": "code",
      "execution_count": 9,
      "metadata": {
        "id": "Mmt1CitJM6xD"
      },
      "outputs": [],
      "source": [
        "from pickle import TRUE\n",
        "import torch\n",
        "import torch.nn as nn\n",
        "import torch.nn.functional as F\n",
        "import numpy as np\n",
        "import torch.optim as optim\n",
        "import gc\n"
      ]
    },
    {
      "cell_type": "code",
      "execution_count": 39,
      "metadata": {},
      "outputs": [],
      "source": [
        "\n",
        "class ResBlock(nn.Module):\n",
        "  def __init__(self, residual, skip, act=True):\n",
        "    super().__init__()\n",
        "    self.residual = residual\n",
        "    self.skip = skip\n",
        "    self.act = nn.ReLU() if act else nn.Identity()\n",
        "  \n",
        "  def forward(self, input):\n",
        "    tmp = self.residual(input) + self.skip(input)\n",
        "    tmp = self.act(tmp)\n",
        "    return tmp\n",
        "\n",
        "class View(nn.Module):\n",
        "  def __init__(self, shape):\n",
        "    super().__init__()\n",
        "    self.shape = shape\n",
        "  \n",
        "  def forward(self, input):\n",
        "    return input.view(*self.shape)\n",
        "\n",
        "class CNN(torch.nn.Module):\n",
        "  # Input -> Conv -> BN -> ReLU -> Pooling -> Conv -> BN -> ReLU -> Pooling\n",
        "  def __init__(\n",
        "    self, in_channels=3, img_dim=256, n_features=32, kernel_size=3,\n",
        "    add_res=False):\n",
        "    super().__init__()\n",
        "    self.in_channels = in_channels\n",
        "    self.img_dim = img_dim\n",
        "    self.n_features = n_features\n",
        "    self.kernel_size = kernel_size\n",
        "    self.add_res = add_res\n",
        "  \n",
        "    self.conv1 = self.conv(\n",
        "      in_channels, n_features, kernel_size, stride=2, batch_norm=True)\n",
        "    self.inter_dim = self.inter_layer_dim(\n",
        "      self.img_dim, kernel_size, stride=2)\n",
        "    print(f'1 Features in: {n_features} Features out: {n_features} '\n",
        "      f'Inter dim: {self.inter_dim}')\n",
        "    \n",
        "    self.conv2 = self.conv(\n",
        "      n_features, n_features, kernel_size, stride=1, batch_norm=True,\n",
        "      pool=False)\n",
        "    self.inter_dim = self.inter_layer_dim(\n",
        "      self.inter_dim, kernel_size, stride=1)\n",
        "    print(f'2 Features in: {n_features} Features out: {n_features} '\n",
        "      f'Inter dim: {self.inter_dim}')\n",
        "\n",
        "    self.conv3 = self.conv(\n",
        "      n_features, n_features*2, kernel_size, stride=1, batch_norm=True,\n",
        "      pool=True)\n",
        "    self.inter_dim = self.inter_layer_dim(\n",
        "      self.inter_dim, kernel_size, stride=1, pool_scale=2)\n",
        "    n_features = n_features*2\n",
        "    print(f'3 Features in: {n_features/2} Features out: {n_features} '\n",
        "      f'Inter dim: {self.inter_dim}')\n",
        "\n",
        "    # Res blocks\n",
        "    if self.add_res:\n",
        "      stride = 2\n",
        "      self.res1 = self.res_layer(\n",
        "        n_features, n_features, kernel_size, stride=stride, batch_norm=True)\n",
        "      self.inter_dim = self.inter_layer_dim(\n",
        "        self.inter_dim, kernel_size, stride=stride, pool_scale=1)\n",
        "      print(f'4 Features in: {n_features} Features out: {n_features} '\n",
        "        f'Inter dim: {self.inter_dim}')\n",
        "\n",
        "      self.res2 = self.res_layer(\n",
        "        n_features, n_features*2, kernel_size, stride=stride, batch_norm=True)\n",
        "      self.inter_dim = self.inter_layer_dim(\n",
        "        self.inter_dim, kernel_size, stride=stride)\n",
        "      n_features *= 2\n",
        "      print(f'5 Features in: {n_features//2} Features out: {n_features} '\n",
        "        f'Inter dim: {self.inter_dim}')\n",
        "\n",
        "      self.res3 = self.res_layer(\n",
        "        n_features, n_features*2, kernel_size, stride=stride, batch_norm=True)\n",
        "      self.inter_dim = self.inter_layer_dim(\n",
        "        self.inter_dim, kernel_size, stride=stride)\n",
        "      n_features *= 2\n",
        "      print(f'6 Features in: {n_features//2} Features out: {n_features} '\n",
        "        f'Inter dim: {self.inter_dim}')\n",
        "\n",
        "      self.res4 = self.res_layer(\n",
        "        n_features, n_features*2, kernel_size, stride=stride, batch_norm=True)\n",
        "      self.inter_dim = self.inter_layer_dim(\n",
        "        self.inter_dim, kernel_size, stride=stride)\n",
        "      n_features *= 2\n",
        "      print(f'7 Features in: {n_features//2} Features out: {n_features} '\n",
        "        f'Inter dim: {self.inter_dim}')\n",
        "\n",
        "    adaptive_pool = True\n",
        "    if adaptive_pool:\n",
        "        self.last_pool = nn.AdaptiveAvgPool2d(1)\n",
        "        self.inter_dim = 1\n",
        "    else:\n",
        "      self.last_pool = nn.AvgPool2d(2)\n",
        "      self.inter_dim = self.inter_layer_dim(\n",
        "          self.inter_dim, kernel_size, pool_scale=2)\n",
        "    fc_in = n_features * (self.inter_dim ** 2)\n",
        "    print(f'Fully connected layer: {fc_in}')\n",
        "    self.fc_ = self.fully_connected(fc_in)\n",
        "\n",
        "  def inter_layer_dim(\n",
        "    self, in_dim, kernel_size, stride=1, pad=True, dilation=1, pool_scale=1):\n",
        "    padding = kernel_size//2 if pad else 0\n",
        "    tmp = (in_dim + (2 * padding) - (dilation *(kernel_size - 1)) - 1) / stride\n",
        "    return int(tmp + 1) //  pool_scale\n",
        "\n",
        "  def fully_connected(self, n_in):\n",
        "    fc1_out = int(np.ceil(np.sqrt(n_in)))\n",
        "    fc2_out = int(np.ceil(np.sqrt(fc1_out)))\n",
        "    fc3_out = 1\n",
        "    return nn.Sequential(\n",
        "      nn.Linear(n_in, fc1_out),\n",
        "      nn.ReLU(),\n",
        "      nn.Dropout(0.25),\n",
        "      nn.Linear(fc1_out, fc3_out),\n",
        "      #nn.ReLU(),\n",
        "      #nn.Linear(fc2_out, fc3_out)\n",
        "    )\n",
        "\n",
        "  def conv(self, n_in, n_out, kernel_size, stride=1, pad=True, act=True,\n",
        "      batch_norm=False, pool=False):\n",
        "    padding = kernel_size // 2 if pad else 0\n",
        "    layers = [\n",
        "        nn.Conv2d(in_channels=n_in, out_channels=n_out, kernel_size=kernel_size,\n",
        "        stride=stride, padding=padding)]\n",
        "    if batch_norm:\n",
        "      layers.append(nn.BatchNorm2d(n_out))\n",
        "    if act:\n",
        "      layers.append(nn.ReLU())\n",
        "    if pool:\n",
        "      layers.append(nn.MaxPool2d(kernel_size=2))\n",
        "    \n",
        "    return nn.Sequential(*layers)\n",
        "\n",
        "  def conv_block(self, n_in, n_out, kernel_size, stride=1, pad=True, act=True,\n",
        "    batch_norm=True, pool=False):\n",
        "    return nn.Sequential(\n",
        "      self.conv(\n",
        "        n_in, n_out, kernel_size, stride=stride, act=act, pad=pad,\n",
        "        pool=pool),\n",
        "      self.conv(\n",
        "        n_out, n_out, kernel_size, act=False, batch_norm=batch_norm),\n",
        "    )\n",
        "  \n",
        "  def res_block(self, n_in, n_out, kernel_size, stride=1, pad=True, act=True,\n",
        "    batch_norm=True, pool=False):\n",
        "    residual = self.conv_block(\n",
        "        n_in, n_out, kernel_size, stride=stride, pad=pad, act=act,\n",
        "        batch_norm=batch_norm, pool=pool)\n",
        "    skip = [nn.Identity()]\n",
        "    if n_in != n_out:\n",
        "      skip.append(self.conv(n_in, n_out, 1, act=False))\n",
        "    if stride != 1:\n",
        "      assert stride == 2\n",
        "      skip.append(nn.AvgPool2d(2, ceil_mode=True))\n",
        "    if pool:\n",
        "      skip.append(nn.AvgPool2d(2, ceil_mode=True))\n",
        "    skip = nn.Sequential(*skip)\n",
        "    return ResBlock(residual, skip)\n",
        "\n",
        "  def res_layer(self, n_in, n_out, kernel_size, stride=1, pad=True, act=True,\n",
        "      batch_norm=True, pool=False):\n",
        "    return nn.Sequential(\n",
        "      self.res_block(\n",
        "        n_in, n_out, kernel_size, stride=stride, batch_norm=True),\n",
        "      self.res_block(\n",
        "        n_out, n_out, kernel_size, stride=1, batch_norm=True))\n",
        "   \n",
        "  def forward(self, input):\n",
        "    tmp = self.conv1(input)\n",
        "    tmp = self.conv2(tmp)\n",
        "    tmp = self.conv3(tmp)\n",
        "    if self.add_res:\n",
        "      tmp = self.res1(tmp)\n",
        "      tmp = self.res2(tmp)\n",
        "      tmp = self.res3(tmp)\n",
        "      tmp = self.res4(tmp)\n",
        "    tmp = self.last_pool(tmp)\n",
        "    tmp = tmp.flatten(1)\n",
        "    tmp = self.fc_(tmp)\n",
        "    return tmp.flatten()"
      ]
    },
    {
      "cell_type": "markdown",
      "metadata": {
        "id": "TEQpspPpHCsE"
      },
      "source": [
        "### Training the model\n",
        "\n",
        "Now we train the model on the dataset. Again, we're providing you with the skeleton with some parts marked as `TODO` to be filled by you."
      ]
    },
    {
      "cell_type": "code",
      "execution_count": 40,
      "metadata": {
        "id": "CdJT_iYvOTtS"
      },
      "outputs": [
        {
          "name": "stdout",
          "output_type": "stream",
          "text": [
            "1 Features in: 32 Features out: 32 Inter dim: 128\n",
            "2 Features in: 32 Features out: 32 Inter dim: 128\n",
            "3 Features in: 32.0 Features out: 64 Inter dim: 64\n",
            "4 Features in: 64 Features out: 64 Inter dim: 32\n",
            "5 Features in: 64 Features out: 128 Inter dim: 16\n",
            "6 Features in: 128 Features out: 256 Inter dim: 8\n",
            "7 Features in: 256 Features out: 512 Inter dim: 4\n",
            "Fully connected layer: 512\n",
            "Param groups: 1\n",
            "Len dataloader: <torch.utils.data.dataloader.DataLoader object at 0x7f36ec56e4f0>\n"
          ]
        },
        {
          "data": {
            "application/vnd.jupyter.widget-view+json": {
              "model_id": "c82208c1420f45febac84dc1fe7f5297",
              "version_major": 2,
              "version_minor": 0
            },
            "text/plain": [
              "  0%|          | 0/100 [00:00<?, ?it/s]"
            ]
          },
          "metadata": {},
          "output_type": "display_data"
        },
        {
          "data": {
            "application/vnd.jupyter.widget-view+json": {
              "model_id": "253b762f7f00479bbfe1a72ba637e370",
              "version_major": 2,
              "version_minor": 0
            },
            "text/plain": [
              "  0%|          | 0/21 [00:00<?, ?it/s]"
            ]
          },
          "metadata": {},
          "output_type": "display_data"
        },
        {
          "data": {
            "application/vnd.jupyter.widget-view+json": {
              "model_id": "d2b5349e584b489d880ac7d053666be0",
              "version_major": 2,
              "version_minor": 0
            },
            "text/plain": [
              "  0%|          | 0/21 [00:00<?, ?it/s]"
            ]
          },
          "metadata": {},
          "output_type": "display_data"
        },
        {
          "data": {
            "application/vnd.jupyter.widget-view+json": {
              "model_id": "24ac2da3f8bb415abd100f25a5417401",
              "version_major": 2,
              "version_minor": 0
            },
            "text/plain": [
              "  0%|          | 0/21 [00:00<?, ?it/s]"
            ]
          },
          "metadata": {},
          "output_type": "display_data"
        },
        {
          "data": {
            "application/vnd.jupyter.widget-view+json": {
              "model_id": "dbed3b1cc94b416db8e8d3d65d136b71",
              "version_major": 2,
              "version_minor": 0
            },
            "text/plain": [
              "  0%|          | 0/21 [00:00<?, ?it/s]"
            ]
          },
          "metadata": {},
          "output_type": "display_data"
        },
        {
          "data": {
            "application/vnd.jupyter.widget-view+json": {
              "model_id": "3804509a547c4a5a91dba2f99ece2e9e",
              "version_major": 2,
              "version_minor": 0
            },
            "text/plain": [
              "  0%|          | 0/21 [00:00<?, ?it/s]"
            ]
          },
          "metadata": {},
          "output_type": "display_data"
        },
        {
          "data": {
            "application/vnd.jupyter.widget-view+json": {
              "model_id": "77fe1984537040ec9d4d3cffa43e6b56",
              "version_major": 2,
              "version_minor": 0
            },
            "text/plain": [
              "  0%|          | 0/21 [00:00<?, ?it/s]"
            ]
          },
          "metadata": {},
          "output_type": "display_data"
        },
        {
          "data": {
            "application/vnd.jupyter.widget-view+json": {
              "model_id": "249d6dca1ca441259b5584a0547b9e96",
              "version_major": 2,
              "version_minor": 0
            },
            "text/plain": [
              "  0%|          | 0/21 [00:00<?, ?it/s]"
            ]
          },
          "metadata": {},
          "output_type": "display_data"
        },
        {
          "data": {
            "application/vnd.jupyter.widget-view+json": {
              "model_id": "d2ee7ad461044ba6ad45806954e2dae9",
              "version_major": 2,
              "version_minor": 0
            },
            "text/plain": [
              "  0%|          | 0/21 [00:00<?, ?it/s]"
            ]
          },
          "metadata": {},
          "output_type": "display_data"
        },
        {
          "data": {
            "application/vnd.jupyter.widget-view+json": {
              "model_id": "55c7aa54e8404c26ad92ac06ecd5acd8",
              "version_major": 2,
              "version_minor": 0
            },
            "text/plain": [
              "  0%|          | 0/21 [00:00<?, ?it/s]"
            ]
          },
          "metadata": {},
          "output_type": "display_data"
        },
        {
          "data": {
            "application/vnd.jupyter.widget-view+json": {
              "model_id": "ec932aeef3b44ca0a76196134018b5ba",
              "version_major": 2,
              "version_minor": 0
            },
            "text/plain": [
              "  0%|          | 0/21 [00:00<?, ?it/s]"
            ]
          },
          "metadata": {},
          "output_type": "display_data"
        },
        {
          "data": {
            "application/vnd.jupyter.widget-view+json": {
              "model_id": "41d395b0b12d4602a5ec3c0ec8d59c34",
              "version_major": 2,
              "version_minor": 0
            },
            "text/plain": [
              "  0%|          | 0/21 [00:00<?, ?it/s]"
            ]
          },
          "metadata": {},
          "output_type": "display_data"
        },
        {
          "data": {
            "application/vnd.jupyter.widget-view+json": {
              "model_id": "296be02dd5a44892923b9899eb0d96c3",
              "version_major": 2,
              "version_minor": 0
            },
            "text/plain": [
              "  0%|          | 0/21 [00:00<?, ?it/s]"
            ]
          },
          "metadata": {},
          "output_type": "display_data"
        },
        {
          "data": {
            "application/vnd.jupyter.widget-view+json": {
              "model_id": "c79b69beb99242ee8905b30d75c3cd55",
              "version_major": 2,
              "version_minor": 0
            },
            "text/plain": [
              "  0%|          | 0/21 [00:00<?, ?it/s]"
            ]
          },
          "metadata": {},
          "output_type": "display_data"
        },
        {
          "data": {
            "application/vnd.jupyter.widget-view+json": {
              "model_id": "1e5a8a21e12740139b708badb0424726",
              "version_major": 2,
              "version_minor": 0
            },
            "text/plain": [
              "  0%|          | 0/21 [00:00<?, ?it/s]"
            ]
          },
          "metadata": {},
          "output_type": "display_data"
        },
        {
          "data": {
            "application/vnd.jupyter.widget-view+json": {
              "model_id": "9e60b1eb6186413e83463f33d40f6529",
              "version_major": 2,
              "version_minor": 0
            },
            "text/plain": [
              "  0%|          | 0/21 [00:00<?, ?it/s]"
            ]
          },
          "metadata": {},
          "output_type": "display_data"
        },
        {
          "data": {
            "application/vnd.jupyter.widget-view+json": {
              "model_id": "d8fa0a8c2de34a2698717fd8109c9f26",
              "version_major": 2,
              "version_minor": 0
            },
            "text/plain": [
              "  0%|          | 0/21 [00:00<?, ?it/s]"
            ]
          },
          "metadata": {},
          "output_type": "display_data"
        },
        {
          "data": {
            "application/vnd.jupyter.widget-view+json": {
              "model_id": "c783dc6a4b6446f08a611c36b980b754",
              "version_major": 2,
              "version_minor": 0
            },
            "text/plain": [
              "  0%|          | 0/21 [00:00<?, ?it/s]"
            ]
          },
          "metadata": {},
          "output_type": "display_data"
        },
        {
          "data": {
            "application/vnd.jupyter.widget-view+json": {
              "model_id": "807011a54ec443c0b070a5dd4d156d4c",
              "version_major": 2,
              "version_minor": 0
            },
            "text/plain": [
              "  0%|          | 0/21 [00:00<?, ?it/s]"
            ]
          },
          "metadata": {},
          "output_type": "display_data"
        },
        {
          "data": {
            "application/vnd.jupyter.widget-view+json": {
              "model_id": "c2071e4dbb1247c0bf0e71ed43662b07",
              "version_major": 2,
              "version_minor": 0
            },
            "text/plain": [
              "  0%|          | 0/21 [00:00<?, ?it/s]"
            ]
          },
          "metadata": {},
          "output_type": "display_data"
        },
        {
          "data": {
            "application/vnd.jupyter.widget-view+json": {
              "model_id": "9deb16bb51fd4d0683bb3cc4777cd769",
              "version_major": 2,
              "version_minor": 0
            },
            "text/plain": [
              "  0%|          | 0/21 [00:00<?, ?it/s]"
            ]
          },
          "metadata": {},
          "output_type": "display_data"
        },
        {
          "data": {
            "application/vnd.jupyter.widget-view+json": {
              "model_id": "bd599a4ab3784d6fa6ed2243cd59086b",
              "version_major": 2,
              "version_minor": 0
            },
            "text/plain": [
              "  0%|          | 0/21 [00:00<?, ?it/s]"
            ]
          },
          "metadata": {},
          "output_type": "display_data"
        },
        {
          "data": {
            "application/vnd.jupyter.widget-view+json": {
              "model_id": "bf588a60487d4d7db81cd6cd3e7875ea",
              "version_major": 2,
              "version_minor": 0
            },
            "text/plain": [
              "  0%|          | 0/21 [00:00<?, ?it/s]"
            ]
          },
          "metadata": {},
          "output_type": "display_data"
        },
        {
          "data": {
            "application/vnd.jupyter.widget-view+json": {
              "model_id": "70487dde18f845b09629c21c9889dfeb",
              "version_major": 2,
              "version_minor": 0
            },
            "text/plain": [
              "  0%|          | 0/21 [00:00<?, ?it/s]"
            ]
          },
          "metadata": {},
          "output_type": "display_data"
        },
        {
          "data": {
            "application/vnd.jupyter.widget-view+json": {
              "model_id": "e8ff06bed7a34eff82b6c301ccb436a1",
              "version_major": 2,
              "version_minor": 0
            },
            "text/plain": [
              "  0%|          | 0/21 [00:00<?, ?it/s]"
            ]
          },
          "metadata": {},
          "output_type": "display_data"
        },
        {
          "data": {
            "application/vnd.jupyter.widget-view+json": {
              "model_id": "1394ebcf08f144f09b6429984e0f05d4",
              "version_major": 2,
              "version_minor": 0
            },
            "text/plain": [
              "  0%|          | 0/21 [00:00<?, ?it/s]"
            ]
          },
          "metadata": {},
          "output_type": "display_data"
        },
        {
          "data": {
            "application/vnd.jupyter.widget-view+json": {
              "model_id": "ee9de62a653c4983a781756cd0bbe48a",
              "version_major": 2,
              "version_minor": 0
            },
            "text/plain": [
              "  0%|          | 0/21 [00:00<?, ?it/s]"
            ]
          },
          "metadata": {},
          "output_type": "display_data"
        },
        {
          "data": {
            "application/vnd.jupyter.widget-view+json": {
              "model_id": "c7a6cd19021842ac945ac211aa743604",
              "version_major": 2,
              "version_minor": 0
            },
            "text/plain": [
              "  0%|          | 0/21 [00:00<?, ?it/s]"
            ]
          },
          "metadata": {},
          "output_type": "display_data"
        },
        {
          "data": {
            "application/vnd.jupyter.widget-view+json": {
              "model_id": "4af314c61cfa4ff99d717ecfe01addc8",
              "version_major": 2,
              "version_minor": 0
            },
            "text/plain": [
              "  0%|          | 0/21 [00:00<?, ?it/s]"
            ]
          },
          "metadata": {},
          "output_type": "display_data"
        },
        {
          "data": {
            "application/vnd.jupyter.widget-view+json": {
              "model_id": "d01539c22de142b59f695afc0bbca8c1",
              "version_major": 2,
              "version_minor": 0
            },
            "text/plain": [
              "  0%|          | 0/21 [00:00<?, ?it/s]"
            ]
          },
          "metadata": {},
          "output_type": "display_data"
        },
        {
          "data": {
            "application/vnd.jupyter.widget-view+json": {
              "model_id": "b06f972265ff4345bd04a0cb84e49d25",
              "version_major": 2,
              "version_minor": 0
            },
            "text/plain": [
              "  0%|          | 0/21 [00:00<?, ?it/s]"
            ]
          },
          "metadata": {},
          "output_type": "display_data"
        },
        {
          "data": {
            "application/vnd.jupyter.widget-view+json": {
              "model_id": "8c8a555296ad4eeb8dc84b71f47b8fab",
              "version_major": 2,
              "version_minor": 0
            },
            "text/plain": [
              "  0%|          | 0/21 [00:00<?, ?it/s]"
            ]
          },
          "metadata": {},
          "output_type": "display_data"
        },
        {
          "data": {
            "application/vnd.jupyter.widget-view+json": {
              "model_id": "76cf8533c9164b679c4fa56020e2e768",
              "version_major": 2,
              "version_minor": 0
            },
            "text/plain": [
              "  0%|          | 0/21 [00:00<?, ?it/s]"
            ]
          },
          "metadata": {},
          "output_type": "display_data"
        },
        {
          "data": {
            "application/vnd.jupyter.widget-view+json": {
              "model_id": "9a798a587aa4475c8ce58384267aae90",
              "version_major": 2,
              "version_minor": 0
            },
            "text/plain": [
              "  0%|          | 0/21 [00:00<?, ?it/s]"
            ]
          },
          "metadata": {},
          "output_type": "display_data"
        },
        {
          "data": {
            "application/vnd.jupyter.widget-view+json": {
              "model_id": "f10bc69e848e4f0c899af4ec90223756",
              "version_major": 2,
              "version_minor": 0
            },
            "text/plain": [
              "  0%|          | 0/21 [00:00<?, ?it/s]"
            ]
          },
          "metadata": {},
          "output_type": "display_data"
        },
        {
          "data": {
            "application/vnd.jupyter.widget-view+json": {
              "model_id": "ec8cfa850ab641b5849bdf391600a44b",
              "version_major": 2,
              "version_minor": 0
            },
            "text/plain": [
              "  0%|          | 0/21 [00:00<?, ?it/s]"
            ]
          },
          "metadata": {},
          "output_type": "display_data"
        },
        {
          "data": {
            "application/vnd.jupyter.widget-view+json": {
              "model_id": "79e635e0f8874e86867feefb4a3c362a",
              "version_major": 2,
              "version_minor": 0
            },
            "text/plain": [
              "  0%|          | 0/21 [00:00<?, ?it/s]"
            ]
          },
          "metadata": {},
          "output_type": "display_data"
        },
        {
          "data": {
            "application/vnd.jupyter.widget-view+json": {
              "model_id": "02253890e8454c678e93f1f2c9413571",
              "version_major": 2,
              "version_minor": 0
            },
            "text/plain": [
              "  0%|          | 0/21 [00:00<?, ?it/s]"
            ]
          },
          "metadata": {},
          "output_type": "display_data"
        },
        {
          "data": {
            "application/vnd.jupyter.widget-view+json": {
              "model_id": "66350e03088f434782199e5b9cf3c390",
              "version_major": 2,
              "version_minor": 0
            },
            "text/plain": [
              "  0%|          | 0/21 [00:00<?, ?it/s]"
            ]
          },
          "metadata": {},
          "output_type": "display_data"
        },
        {
          "data": {
            "application/vnd.jupyter.widget-view+json": {
              "model_id": "2df0dedd70b24957a111a304ab952b8a",
              "version_major": 2,
              "version_minor": 0
            },
            "text/plain": [
              "  0%|          | 0/21 [00:00<?, ?it/s]"
            ]
          },
          "metadata": {},
          "output_type": "display_data"
        },
        {
          "data": {
            "application/vnd.jupyter.widget-view+json": {
              "model_id": "a1529961412b49658dcb8a9c25bb8eb5",
              "version_major": 2,
              "version_minor": 0
            },
            "text/plain": [
              "  0%|          | 0/21 [00:00<?, ?it/s]"
            ]
          },
          "metadata": {},
          "output_type": "display_data"
        },
        {
          "data": {
            "application/vnd.jupyter.widget-view+json": {
              "model_id": "8de4de23402c4011807cdba201c050df",
              "version_major": 2,
              "version_minor": 0
            },
            "text/plain": [
              "  0%|          | 0/21 [00:00<?, ?it/s]"
            ]
          },
          "metadata": {},
          "output_type": "display_data"
        },
        {
          "data": {
            "application/vnd.jupyter.widget-view+json": {
              "model_id": "bc1d5ad508ef41c98e48670328c3ddcd",
              "version_major": 2,
              "version_minor": 0
            },
            "text/plain": [
              "  0%|          | 0/21 [00:00<?, ?it/s]"
            ]
          },
          "metadata": {},
          "output_type": "display_data"
        },
        {
          "data": {
            "application/vnd.jupyter.widget-view+json": {
              "model_id": "6a658f33751d4a56bc899c1f4ab0ac31",
              "version_major": 2,
              "version_minor": 0
            },
            "text/plain": [
              "  0%|          | 0/21 [00:00<?, ?it/s]"
            ]
          },
          "metadata": {},
          "output_type": "display_data"
        },
        {
          "data": {
            "application/vnd.jupyter.widget-view+json": {
              "model_id": "2d414e2e4ee8493dbfcf482299e25cea",
              "version_major": 2,
              "version_minor": 0
            },
            "text/plain": [
              "  0%|          | 0/21 [00:00<?, ?it/s]"
            ]
          },
          "metadata": {},
          "output_type": "display_data"
        },
        {
          "data": {
            "application/vnd.jupyter.widget-view+json": {
              "model_id": "8f1af031570242aaa5bf6d45a055c08f",
              "version_major": 2,
              "version_minor": 0
            },
            "text/plain": [
              "  0%|          | 0/21 [00:00<?, ?it/s]"
            ]
          },
          "metadata": {},
          "output_type": "display_data"
        },
        {
          "data": {
            "application/vnd.jupyter.widget-view+json": {
              "model_id": "d495e370b45c440187ccf9474e189772",
              "version_major": 2,
              "version_minor": 0
            },
            "text/plain": [
              "  0%|          | 0/21 [00:00<?, ?it/s]"
            ]
          },
          "metadata": {},
          "output_type": "display_data"
        },
        {
          "data": {
            "application/vnd.jupyter.widget-view+json": {
              "model_id": "58d296ef087f498e829ecec06d94f88a",
              "version_major": 2,
              "version_minor": 0
            },
            "text/plain": [
              "  0%|          | 0/21 [00:00<?, ?it/s]"
            ]
          },
          "metadata": {},
          "output_type": "display_data"
        },
        {
          "data": {
            "application/vnd.jupyter.widget-view+json": {
              "model_id": "9f95840fc9854492a0ba975337213c16",
              "version_major": 2,
              "version_minor": 0
            },
            "text/plain": [
              "  0%|          | 0/21 [00:00<?, ?it/s]"
            ]
          },
          "metadata": {},
          "output_type": "display_data"
        },
        {
          "data": {
            "application/vnd.jupyter.widget-view+json": {
              "model_id": "64105c12a97b480d8b2b463f8f9ea44f",
              "version_major": 2,
              "version_minor": 0
            },
            "text/plain": [
              "  0%|          | 0/21 [00:00<?, ?it/s]"
            ]
          },
          "metadata": {},
          "output_type": "display_data"
        },
        {
          "data": {
            "application/vnd.jupyter.widget-view+json": {
              "model_id": "3de623d88b704a85857605fa730977ef",
              "version_major": 2,
              "version_minor": 0
            },
            "text/plain": [
              "  0%|          | 0/21 [00:00<?, ?it/s]"
            ]
          },
          "metadata": {},
          "output_type": "display_data"
        },
        {
          "data": {
            "application/vnd.jupyter.widget-view+json": {
              "model_id": "1ab255065d20402780579b7177e6db75",
              "version_major": 2,
              "version_minor": 0
            },
            "text/plain": [
              "  0%|          | 0/21 [00:00<?, ?it/s]"
            ]
          },
          "metadata": {},
          "output_type": "display_data"
        },
        {
          "data": {
            "application/vnd.jupyter.widget-view+json": {
              "model_id": "50d5d844e151499bb89c3622033642c9",
              "version_major": 2,
              "version_minor": 0
            },
            "text/plain": [
              "  0%|          | 0/21 [00:00<?, ?it/s]"
            ]
          },
          "metadata": {},
          "output_type": "display_data"
        },
        {
          "data": {
            "application/vnd.jupyter.widget-view+json": {
              "model_id": "8335ff5b994949b99206619ca3253458",
              "version_major": 2,
              "version_minor": 0
            },
            "text/plain": [
              "  0%|          | 0/21 [00:00<?, ?it/s]"
            ]
          },
          "metadata": {},
          "output_type": "display_data"
        },
        {
          "data": {
            "application/vnd.jupyter.widget-view+json": {
              "model_id": "fac7bed1c99c4dfba2366d48746558d2",
              "version_major": 2,
              "version_minor": 0
            },
            "text/plain": [
              "  0%|          | 0/21 [00:00<?, ?it/s]"
            ]
          },
          "metadata": {},
          "output_type": "display_data"
        },
        {
          "data": {
            "application/vnd.jupyter.widget-view+json": {
              "model_id": "57123fd22b744622be85bcf3154c1e02",
              "version_major": 2,
              "version_minor": 0
            },
            "text/plain": [
              "  0%|          | 0/21 [00:00<?, ?it/s]"
            ]
          },
          "metadata": {},
          "output_type": "display_data"
        },
        {
          "data": {
            "application/vnd.jupyter.widget-view+json": {
              "model_id": "a2f146977e9e4e8bb41c05958e0d5842",
              "version_major": 2,
              "version_minor": 0
            },
            "text/plain": [
              "  0%|          | 0/21 [00:00<?, ?it/s]"
            ]
          },
          "metadata": {},
          "output_type": "display_data"
        },
        {
          "data": {
            "application/vnd.jupyter.widget-view+json": {
              "model_id": "443097b81e3544d8943e6ea21d0f2645",
              "version_major": 2,
              "version_minor": 0
            },
            "text/plain": [
              "  0%|          | 0/21 [00:00<?, ?it/s]"
            ]
          },
          "metadata": {},
          "output_type": "display_data"
        },
        {
          "data": {
            "application/vnd.jupyter.widget-view+json": {
              "model_id": "cbf239440c664b29b2f8d0f94e161b35",
              "version_major": 2,
              "version_minor": 0
            },
            "text/plain": [
              "  0%|          | 0/21 [00:00<?, ?it/s]"
            ]
          },
          "metadata": {},
          "output_type": "display_data"
        },
        {
          "data": {
            "application/vnd.jupyter.widget-view+json": {
              "model_id": "ff2a44588d0a4c43a127770d312b3220",
              "version_major": 2,
              "version_minor": 0
            },
            "text/plain": [
              "  0%|          | 0/21 [00:00<?, ?it/s]"
            ]
          },
          "metadata": {},
          "output_type": "display_data"
        },
        {
          "data": {
            "application/vnd.jupyter.widget-view+json": {
              "model_id": "3331eb30369f458998a734737aaf7dad",
              "version_major": 2,
              "version_minor": 0
            },
            "text/plain": [
              "  0%|          | 0/21 [00:00<?, ?it/s]"
            ]
          },
          "metadata": {},
          "output_type": "display_data"
        },
        {
          "data": {
            "application/vnd.jupyter.widget-view+json": {
              "model_id": "6408c9e6a8494099b7d80005249f8874",
              "version_major": 2,
              "version_minor": 0
            },
            "text/plain": [
              "  0%|          | 0/21 [00:00<?, ?it/s]"
            ]
          },
          "metadata": {},
          "output_type": "display_data"
        },
        {
          "data": {
            "application/vnd.jupyter.widget-view+json": {
              "model_id": "e5aa18b4b9e8404a9dbf70b7305d7c87",
              "version_major": 2,
              "version_minor": 0
            },
            "text/plain": [
              "  0%|          | 0/21 [00:00<?, ?it/s]"
            ]
          },
          "metadata": {},
          "output_type": "display_data"
        },
        {
          "data": {
            "application/vnd.jupyter.widget-view+json": {
              "model_id": "56270a51cec7435a92cb80cec01d198d",
              "version_major": 2,
              "version_minor": 0
            },
            "text/plain": [
              "  0%|          | 0/21 [00:00<?, ?it/s]"
            ]
          },
          "metadata": {},
          "output_type": "display_data"
        },
        {
          "data": {
            "application/vnd.jupyter.widget-view+json": {
              "model_id": "b52183d82c59414790f6f7d1119f3642",
              "version_major": 2,
              "version_minor": 0
            },
            "text/plain": [
              "  0%|          | 0/21 [00:00<?, ?it/s]"
            ]
          },
          "metadata": {},
          "output_type": "display_data"
        },
        {
          "data": {
            "application/vnd.jupyter.widget-view+json": {
              "model_id": "7caddacabfa44285ab4440072d52f24d",
              "version_major": 2,
              "version_minor": 0
            },
            "text/plain": [
              "  0%|          | 0/21 [00:00<?, ?it/s]"
            ]
          },
          "metadata": {},
          "output_type": "display_data"
        },
        {
          "data": {
            "application/vnd.jupyter.widget-view+json": {
              "model_id": "e61dddd76d5146ebaca93f6ccc6d8207",
              "version_major": 2,
              "version_minor": 0
            },
            "text/plain": [
              "  0%|          | 0/21 [00:00<?, ?it/s]"
            ]
          },
          "metadata": {},
          "output_type": "display_data"
        },
        {
          "data": {
            "application/vnd.jupyter.widget-view+json": {
              "model_id": "9be1dfc45aaa48459afee8216d307f7f",
              "version_major": 2,
              "version_minor": 0
            },
            "text/plain": [
              "  0%|          | 0/21 [00:00<?, ?it/s]"
            ]
          },
          "metadata": {},
          "output_type": "display_data"
        },
        {
          "data": {
            "application/vnd.jupyter.widget-view+json": {
              "model_id": "f77833a5fe334bf2bb9888ade48eda18",
              "version_major": 2,
              "version_minor": 0
            },
            "text/plain": [
              "  0%|          | 0/21 [00:00<?, ?it/s]"
            ]
          },
          "metadata": {},
          "output_type": "display_data"
        },
        {
          "data": {
            "application/vnd.jupyter.widget-view+json": {
              "model_id": "4908fbb45016415082b687c947be4cf1",
              "version_major": 2,
              "version_minor": 0
            },
            "text/plain": [
              "  0%|          | 0/21 [00:00<?, ?it/s]"
            ]
          },
          "metadata": {},
          "output_type": "display_data"
        },
        {
          "data": {
            "application/vnd.jupyter.widget-view+json": {
              "model_id": "e6fc3489fd1a4b6593d888be05afd810",
              "version_major": 2,
              "version_minor": 0
            },
            "text/plain": [
              "  0%|          | 0/21 [00:00<?, ?it/s]"
            ]
          },
          "metadata": {},
          "output_type": "display_data"
        },
        {
          "data": {
            "application/vnd.jupyter.widget-view+json": {
              "model_id": "5fd448d90dc641f1a870982db21fe4cb",
              "version_major": 2,
              "version_minor": 0
            },
            "text/plain": [
              "  0%|          | 0/21 [00:00<?, ?it/s]"
            ]
          },
          "metadata": {},
          "output_type": "display_data"
        },
        {
          "data": {
            "application/vnd.jupyter.widget-view+json": {
              "model_id": "4771fb791bba43b6ab00b54c23d50b72",
              "version_major": 2,
              "version_minor": 0
            },
            "text/plain": [
              "  0%|          | 0/21 [00:00<?, ?it/s]"
            ]
          },
          "metadata": {},
          "output_type": "display_data"
        },
        {
          "data": {
            "application/vnd.jupyter.widget-view+json": {
              "model_id": "24bab2eb58024911a074aa83a20a8757",
              "version_major": 2,
              "version_minor": 0
            },
            "text/plain": [
              "  0%|          | 0/21 [00:00<?, ?it/s]"
            ]
          },
          "metadata": {},
          "output_type": "display_data"
        },
        {
          "data": {
            "application/vnd.jupyter.widget-view+json": {
              "model_id": "ee5dc81cab2845468f3618039acd05d3",
              "version_major": 2,
              "version_minor": 0
            },
            "text/plain": [
              "  0%|          | 0/21 [00:00<?, ?it/s]"
            ]
          },
          "metadata": {},
          "output_type": "display_data"
        },
        {
          "data": {
            "application/vnd.jupyter.widget-view+json": {
              "model_id": "42a60d69cc634b5492fc0495d786beb9",
              "version_major": 2,
              "version_minor": 0
            },
            "text/plain": [
              "  0%|          | 0/21 [00:00<?, ?it/s]"
            ]
          },
          "metadata": {},
          "output_type": "display_data"
        },
        {
          "data": {
            "application/vnd.jupyter.widget-view+json": {
              "model_id": "5e37b5eb1cfc4762baefb202138ce17f",
              "version_major": 2,
              "version_minor": 0
            },
            "text/plain": [
              "  0%|          | 0/21 [00:00<?, ?it/s]"
            ]
          },
          "metadata": {},
          "output_type": "display_data"
        },
        {
          "data": {
            "application/vnd.jupyter.widget-view+json": {
              "model_id": "1bd4634edd2e4df78a0da6704fc438d4",
              "version_major": 2,
              "version_minor": 0
            },
            "text/plain": [
              "  0%|          | 0/21 [00:00<?, ?it/s]"
            ]
          },
          "metadata": {},
          "output_type": "display_data"
        },
        {
          "data": {
            "application/vnd.jupyter.widget-view+json": {
              "model_id": "b809ced29c264149a37b215a486c1a43",
              "version_major": 2,
              "version_minor": 0
            },
            "text/plain": [
              "  0%|          | 0/21 [00:00<?, ?it/s]"
            ]
          },
          "metadata": {},
          "output_type": "display_data"
        },
        {
          "data": {
            "application/vnd.jupyter.widget-view+json": {
              "model_id": "19cd0d67fe3c434d82c61b34df197b37",
              "version_major": 2,
              "version_minor": 0
            },
            "text/plain": [
              "  0%|          | 0/21 [00:00<?, ?it/s]"
            ]
          },
          "metadata": {},
          "output_type": "display_data"
        },
        {
          "data": {
            "application/vnd.jupyter.widget-view+json": {
              "model_id": "948e949a2b584fd5a5816e0daf8c6649",
              "version_major": 2,
              "version_minor": 0
            },
            "text/plain": [
              "  0%|          | 0/21 [00:00<?, ?it/s]"
            ]
          },
          "metadata": {},
          "output_type": "display_data"
        },
        {
          "data": {
            "application/vnd.jupyter.widget-view+json": {
              "model_id": "0c4ac88b30b645ab881f2e5c10ba72e1",
              "version_major": 2,
              "version_minor": 0
            },
            "text/plain": [
              "  0%|          | 0/21 [00:00<?, ?it/s]"
            ]
          },
          "metadata": {},
          "output_type": "display_data"
        },
        {
          "data": {
            "application/vnd.jupyter.widget-view+json": {
              "model_id": "a9917b0f8d9e4d5b91ad0e1ad296a075",
              "version_major": 2,
              "version_minor": 0
            },
            "text/plain": [
              "  0%|          | 0/21 [00:00<?, ?it/s]"
            ]
          },
          "metadata": {},
          "output_type": "display_data"
        },
        {
          "data": {
            "application/vnd.jupyter.widget-view+json": {
              "model_id": "b68ab4ebe4f2496b93a5192820b77722",
              "version_major": 2,
              "version_minor": 0
            },
            "text/plain": [
              "  0%|          | 0/21 [00:00<?, ?it/s]"
            ]
          },
          "metadata": {},
          "output_type": "display_data"
        },
        {
          "data": {
            "application/vnd.jupyter.widget-view+json": {
              "model_id": "8abc990d1c0c4864a66b437450ca0c63",
              "version_major": 2,
              "version_minor": 0
            },
            "text/plain": [
              "  0%|          | 0/21 [00:00<?, ?it/s]"
            ]
          },
          "metadata": {},
          "output_type": "display_data"
        },
        {
          "data": {
            "application/vnd.jupyter.widget-view+json": {
              "model_id": "c0dc12d2e5be446ba103ee517423570d",
              "version_major": 2,
              "version_minor": 0
            },
            "text/plain": [
              "  0%|          | 0/21 [00:00<?, ?it/s]"
            ]
          },
          "metadata": {},
          "output_type": "display_data"
        },
        {
          "data": {
            "application/vnd.jupyter.widget-view+json": {
              "model_id": "89dca5c3e16847f493b9bc6268b5e3da",
              "version_major": 2,
              "version_minor": 0
            },
            "text/plain": [
              "  0%|          | 0/21 [00:00<?, ?it/s]"
            ]
          },
          "metadata": {},
          "output_type": "display_data"
        },
        {
          "data": {
            "application/vnd.jupyter.widget-view+json": {
              "model_id": "59c187e3885d47e7887af5e110798301",
              "version_major": 2,
              "version_minor": 0
            },
            "text/plain": [
              "  0%|          | 0/21 [00:00<?, ?it/s]"
            ]
          },
          "metadata": {},
          "output_type": "display_data"
        },
        {
          "data": {
            "application/vnd.jupyter.widget-view+json": {
              "model_id": "d58e135f58034eb1a9faad436077b151",
              "version_major": 2,
              "version_minor": 0
            },
            "text/plain": [
              "  0%|          | 0/21 [00:00<?, ?it/s]"
            ]
          },
          "metadata": {},
          "output_type": "display_data"
        },
        {
          "data": {
            "application/vnd.jupyter.widget-view+json": {
              "model_id": "04586232b3c04f6cbe994cf1c174c2c0",
              "version_major": 2,
              "version_minor": 0
            },
            "text/plain": [
              "  0%|          | 0/21 [00:00<?, ?it/s]"
            ]
          },
          "metadata": {},
          "output_type": "display_data"
        },
        {
          "data": {
            "application/vnd.jupyter.widget-view+json": {
              "model_id": "7e754b48aba34b56bfe3105a2044952c",
              "version_major": 2,
              "version_minor": 0
            },
            "text/plain": [
              "  0%|          | 0/21 [00:00<?, ?it/s]"
            ]
          },
          "metadata": {},
          "output_type": "display_data"
        },
        {
          "data": {
            "application/vnd.jupyter.widget-view+json": {
              "model_id": "9627a00f74d54be58b31788c84ae12ae",
              "version_major": 2,
              "version_minor": 0
            },
            "text/plain": [
              "  0%|          | 0/21 [00:00<?, ?it/s]"
            ]
          },
          "metadata": {},
          "output_type": "display_data"
        },
        {
          "data": {
            "application/vnd.jupyter.widget-view+json": {
              "model_id": "e1479aa5f25a4e9dbf57c538c955e8d2",
              "version_major": 2,
              "version_minor": 0
            },
            "text/plain": [
              "  0%|          | 0/21 [00:00<?, ?it/s]"
            ]
          },
          "metadata": {},
          "output_type": "display_data"
        },
        {
          "data": {
            "application/vnd.jupyter.widget-view+json": {
              "model_id": "cce9c7593eaf4c5bb4fc747025be7efa",
              "version_major": 2,
              "version_minor": 0
            },
            "text/plain": [
              "  0%|          | 0/21 [00:00<?, ?it/s]"
            ]
          },
          "metadata": {},
          "output_type": "display_data"
        },
        {
          "data": {
            "application/vnd.jupyter.widget-view+json": {
              "model_id": "e8e7fc2e07a548b4bd41d0225d074d31",
              "version_major": 2,
              "version_minor": 0
            },
            "text/plain": [
              "  0%|          | 0/21 [00:00<?, ?it/s]"
            ]
          },
          "metadata": {},
          "output_type": "display_data"
        },
        {
          "data": {
            "application/vnd.jupyter.widget-view+json": {
              "model_id": "5a95e74c06ae445498dad0fd3e4d2e53",
              "version_major": 2,
              "version_minor": 0
            },
            "text/plain": [
              "  0%|          | 0/21 [00:00<?, ?it/s]"
            ]
          },
          "metadata": {},
          "output_type": "display_data"
        },
        {
          "data": {
            "application/vnd.jupyter.widget-view+json": {
              "model_id": "9dbffa5ef1854067a70ea7269ae1d12a",
              "version_major": 2,
              "version_minor": 0
            },
            "text/plain": [
              "  0%|          | 0/21 [00:00<?, ?it/s]"
            ]
          },
          "metadata": {},
          "output_type": "display_data"
        },
        {
          "data": {
            "application/vnd.jupyter.widget-view+json": {
              "model_id": "06e95a57f20044308be908b0abd7bbdb",
              "version_major": 2,
              "version_minor": 0
            },
            "text/plain": [
              "  0%|          | 0/21 [00:00<?, ?it/s]"
            ]
          },
          "metadata": {},
          "output_type": "display_data"
        },
        {
          "data": {
            "application/vnd.jupyter.widget-view+json": {
              "model_id": "b970d0e3bad64b3abab0124c0e5eebf3",
              "version_major": 2,
              "version_minor": 0
            },
            "text/plain": [
              "  0%|          | 0/21 [00:00<?, ?it/s]"
            ]
          },
          "metadata": {},
          "output_type": "display_data"
        },
        {
          "data": {
            "application/vnd.jupyter.widget-view+json": {
              "model_id": "a0583c8e3acc4eb888d8d862ff521f83",
              "version_major": 2,
              "version_minor": 0
            },
            "text/plain": [
              "  0%|          | 0/21 [00:00<?, ?it/s]"
            ]
          },
          "metadata": {},
          "output_type": "display_data"
        },
        {
          "data": {
            "application/vnd.jupyter.widget-view+json": {
              "model_id": "0b717b85bb104fe8814be4e8038f2168",
              "version_major": 2,
              "version_minor": 0
            },
            "text/plain": [
              "  0%|          | 0/21 [00:00<?, ?it/s]"
            ]
          },
          "metadata": {},
          "output_type": "display_data"
        }
      ],
      "source": [
        "from tqdm.notebook import tqdm\n",
        "from collections.abc import Iterable\n",
        "\n",
        "def get_loss_and_correct(\n",
        "  model, batch, criterion, device, acc_thresh=0.5):\n",
        "  # Implement forward pass and loss calculation for one batch.\n",
        "  # Remember to move the batch to device.\n",
        "  data, target = batch\n",
        "  # send to device\n",
        "  data, target = data.to(device), target.to(device)\n",
        "  output = model(data)\n",
        "  loss = criterion(output, target.to(torch.float32))\n",
        "  pred = (output > acc_thresh).to(torch.int)\n",
        "  correct = pred.eq(target).to(torch.float).cpu().mean()\n",
        "\n",
        "  # Return a tuple:\n",
        "  # - loss for the batch (Tensor)\n",
        "  # - number of correctly classified examples in the batch (Tensor)\n",
        "  return loss, correct\n",
        "\n",
        "def get_validation_loss_and_correct(\n",
        "  model, batch, criterion, device, acc_thresh=0.5):\n",
        "  assert isinstance(target, Iterable)\n",
        "  losses = []\n",
        "  corrects = []\n",
        "  data, target = batch\n",
        "  batch_len = len(data)\n",
        "  for images, labels in zip(data, target):\n",
        "    data_ = []\n",
        "    images, labels = images.to(device), labels.to(device)\n",
        "    output = model(data)\n",
        "    loss = criterion(output, labels.to(torch.float32))\n",
        "    pred = (output > acc_thresh).to(torch.int)\n",
        "    correct = pred.eq(lables).to(torch.float).cpu().mean()\n",
        "    losses.append(loss)\n",
        "    corrects.append(correct)\n",
        "  return torch.FloatTensor(losses).mean(), torch.FloatTensor(corrects).mean()\n",
        "\n",
        "def step(loss, optimizer, scheduler=None):\n",
        "  # Implement backward pass and update.\n",
        "  \n",
        "  optimizer.zero_grad()\n",
        "  loss.backward()\n",
        "  if scheduler:\n",
        "    optimizer.step()\n",
        "    scheduler.step()\n",
        "  else:\n",
        "    optimizer.step()\n",
        "\n",
        "\n",
        "N_EPOCHS = 100 # TODO\n",
        "BATCH_SIZE = 96 # TODO\n",
        "VALIDATION_SAMPLES = 1 \n",
        "\n",
        "train_dataloader = torch.utils.data.DataLoader(\n",
        "  train_dataset, batch_size=BATCH_SIZE, shuffle=True, num_workers=4)\n",
        "\n",
        "#new_validation_dataset = MultipleImageTransforms(\n",
        "#  validation_dataset, VALIDATION_SAMPLES)\n",
        "validation_dataloader = torch.utils.data.DataLoader(\n",
        "  validation_dataset, batch_size=BATCH_SIZE, num_workers=4)\n",
        "model = CNN(n_features=32, kernel_size=3, add_res=True)\n",
        "#print(model)\n",
        "\n",
        "criterion = nn.BCEWithLogitsLoss() # TODO\n",
        "\n",
        "#optimizer = optim.SGD(\n",
        "# model.parameters(), lr=1e-3, momentum=0.9, dampening=0.0, nesterov=True,\n",
        "# weight_decay=0.01) # TODO\n",
        "\n",
        "# optimizer = optim.RMSprop(\n",
        "#   model.parameters(), lr=1e-3, alpha=0.99, eps=1e-08, weight_decay=0.01,\n",
        "#   momentum=0.0, centered=False\n",
        "# )\n",
        "\n",
        "optimizer = optim.Adam(\n",
        "  model.parameters(), lr=1e-4, betas=(0.9, 0.99), eps=1e-8, weight_decay=0.01,\n",
        "  amsgrad=False, \n",
        ")\n",
        "\n",
        "print(f'Param groups: {len(optimizer.param_groups)}')\n",
        "print(f'Len dataloader: {train_dataloader}')\n",
        "scheduler = optim.lr_scheduler.OneCycleLR(\n",
        "  optimizer, steps_per_epoch=len(train_dataloader), epochs=N_EPOCHS,\n",
        "  max_lr=1e-3, div_factor=1e2, final_div_factor=1e3,\n",
        "  anneal_strategy='linear',\n",
        "  cycle_momentum=True, base_momentum=0.85, max_momentum=0.95,\n",
        "  three_phase=False, last_epoch=-1,\n",
        "  verbose=False, \n",
        ")\n",
        "# scheduler = None\n",
        "# N_EPOCHS = 0\n",
        "\n",
        "gc.collect()\n",
        "torch.cuda.empty_cache()\n",
        "\n",
        "if torch.cuda.is_available():\n",
        "  model = model.cuda()\n",
        "  criterion = criterion.cuda()\n",
        "  device = torch.device(\"cuda:0\")\n",
        "else:\n",
        "  device = torch.device(\"cpu\")\n",
        "\n",
        "gc.collect()\n",
        "torch.cuda.empty_cache()\n",
        "\n",
        "train_losses = []\n",
        "train_accuracies = []\n",
        "validation_losses = []\n",
        "validation_accuracies = []\n",
        "\n",
        "pbar = tqdm(range(N_EPOCHS))\n",
        "\n",
        "for i in pbar:\n",
        "  total_train_loss = []\n",
        "  total_train_correct = []\n",
        "  total_validation_loss = []\n",
        "  total_validation_correct = []\n",
        "\n",
        "  model.train()\n",
        "\n",
        "  for batch in tqdm(train_dataloader, leave=False):\n",
        "    loss, correct = get_loss_and_correct(model, batch, criterion, device)\n",
        "    step(loss, optimizer, scheduler)\n",
        "    total_train_loss.append(loss)\n",
        "    total_train_correct.append(correct)\n",
        "\n",
        "  with torch.no_grad():\n",
        "    for batch in validation_dataloader:\n",
        "      loss, correct = get_loss_and_correct(\n",
        "        model, batch, criterion, device)\n",
        "      total_validation_loss.append(loss)\n",
        "      total_validation_correct.append(correct)\n",
        "\n",
        "  mean_train_loss = torch.FloatTensor(total_train_loss).mean().item()\n",
        "  train_accuracy = torch.FloatTensor(total_train_correct).mean().item()\n",
        "\n",
        "  mean_validation_loss = torch.FloatTensor(total_validation_loss).mean().item()\n",
        "  validation_accuracy = torch.FloatTensor(\n",
        "    total_validation_correct).mean().item()\n",
        "\n",
        "  train_losses.append(mean_train_loss)\n",
        "  validation_losses.append(mean_validation_loss)\n",
        "\n",
        "  train_accuracies.append(train_accuracy)\n",
        "  validation_accuracies.append(validation_accuracy)\n",
        "\n",
        "  pbar.set_postfix(\n",
        "    { 'train_loss': mean_train_loss, \n",
        "      'validation_loss': mean_validation_loss, \n",
        "      'train_accuracy': train_accuracy, \n",
        "      'validation_accuracy': validation_accuracy})\n",
        "\n",
        "gc.collect()\n",
        "torch.cuda.empty_cache()"
      ]
    },
    {
      "cell_type": "markdown",
      "metadata": {
        "id": "kAZPa_-HH9S3"
      },
      "source": [
        "Now that the model is trained, we want to visualize the training and validation losses and accuracies:"
      ]
    },
    {
      "cell_type": "code",
      "execution_count": 41,
      "metadata": {
        "id": "yYJtDFiNxCCj"
      },
      "outputs": [
        {
          "data": {
            "image/png": "[encoded data removed]",
            "text/plain": [
              "<Figure size 1200x800 with 2 Axes>"
            ]
          },
          "metadata": {
            "needs_background": "light"
          },
          "output_type": "display_data"
        }
      ],
      "source": [
        "plt.figure(dpi=200)\n",
        "\n",
        "plt.subplot(121)\n",
        "plt.plot(train_losses, label='train')\n",
        "plt.plot(validation_losses, label='validation')\n",
        "plt.xlabel('epoch')\n",
        "plt.ylabel('loss')\n",
        "plt.title('Losses')\n",
        "plt.legend()\n",
        "\n",
        "plt.subplot(122)\n",
        "plt.plot(train_accuracies, label='train')\n",
        "plt.plot(validation_accuracies, label='validation')\n",
        "plt.legend()\n",
        "plt.xlabel('epoch')\n",
        "plt.ylabel('accuracy')\n",
        "plt.ylim(0, 1)\n",
        "plt.title('Accuracies')\n",
        "\n",
        "plt.tight_layout()"
      ]
    },
    {
      "cell_type": "markdown",
      "metadata": {
        "id": "ucS7X23fJLyH"
      },
      "source": [
        "Now, change your model to achieve at least 75% accuracy on validation set. You can change the model you've implemented, the optimizer, and the augmentations. \n",
        "\n",
        "Looking at the loss and accuracy plots, can you see if your model overfits the trainig set? Why?\n",
        "\n",
        "Answer:\n",
        "`put your answer here`"
      ]
    },
    {
      "cell_type": "markdown",
      "metadata": {
        "id": "S7nIBeacLE42"
      },
      "source": [
        "### Testing the model\n",
        "\n",
        "Now, use the `test_dataset` to get the final accuracy of your model. Visualize some correctly and incorrectly classified examples."
      ]
    },
    {
      "cell_type": "code",
      "execution_count": 42,
      "metadata": {
        "id": "2J7MqgSyGtT-"
      },
      "outputs": [
        {
          "name": "stdout",
          "output_type": "stream",
          "text": [
            "test_loss: 0.3504389226436615 test_accuracy: 0.8795139193534851\n"
          ]
        }
      ],
      "source": [
        "if N_EPOCHS == 0:\n",
        "  saved_model_path = Path(\n",
        "    '/home/ekka/Programming/courses/pytorch-Deep-Learning/'\n",
        "    'Assignments/Homework2/models/20220930-153252.pt')\n",
        "  model.load_state_dict(torch.load(saved_model_path))\n",
        "  model.eval()\n",
        "\n",
        "test_dataloader = torch.utils.data.DataLoader(\n",
        "  test_dataset, batch_size=BATCH_SIZE, num_workers=4)\n",
        "total_test_loss = []\n",
        "total_test_correct = []\n",
        "\n",
        "with torch.no_grad():\n",
        "    for batch in test_dataloader:\n",
        "        loss, correct = get_loss_and_correct(model, batch, criterion, device)\n",
        "        total_test_loss.append(loss)\n",
        "        total_test_correct.append(correct)\n",
        "\n",
        "mean_test_loss = torch.FloatTensor(total_test_loss).cpu().mean().item()\n",
        "test_accuracy = torch.FloatTensor(total_test_correct).cpu().mean().item()\n",
        "print(f'test_loss: {mean_test_loss} test_accuracy: {test_accuracy}')\n"
      ]
    },
    {
      "cell_type": "markdown",
      "metadata": {
        "id": "4fDrpZ28PT0k"
      },
      "source": [
        "### Visualizing filters\n",
        "\n",
        "In this part, we are going to visualize the output of one of the convolutional layers to see what features they focus on.\n",
        "\n",
        "First, let's get some image."
      ]
    },
    {
      "cell_type": "code",
      "execution_count": 43,
      "metadata": {
        "id": "cAKNWfnuQNLP"
      },
      "outputs": [
        {
          "data": {
            "image/png": "[encoded data removed]",
            "text/plain": [
              "<Figure size 432x288 with 1 Axes>"
            ]
          },
          "metadata": {
            "needs_background": "light"
          },
          "output_type": "display_data"
        }
      ],
      "source": [
        "image = validation_dataset[10][0]\n",
        "show_normalized_image(image)"
      ]
    },
    {
      "cell_type": "markdown",
      "metadata": {
        "id": "Hh4uNI22U9dR"
      },
      "source": [
        "Now, we are going to 'clip' our model at different points to get different intermediate representation. \n",
        "Clip your model at two or three different points and plot the filters output.\n",
        "\n",
        "In order to clip the model, you can use `model.children()` method. For example, to get output only after the first 4 layers, you can do:\n",
        "\n",
        "```\n",
        "clipped = nn.Sequential(\n",
        "    *list(model.children()[:4])\n",
        ")\n",
        "intermediate_output = clipped(input)\n",
        "```\n",
        "\n"
      ]
    },
    {
      "cell_type": "code",
      "execution_count": 44,
      "metadata": {
        "id": "DtTbfc6vQ2P1"
      },
      "outputs": [],
      "source": [
        "def plot_intermediate_output(result, title, x, y, height, width):\n",
        "  \"\"\" Plots the intermediate output of shape\n",
        "      N_FILTERS x H x W\n",
        "  \"\"\"\n",
        "  n_filters = result.shape[1]\n",
        "  N = int(math.sqrt(n_filters))\n",
        "  M = (n_filters + N - 1) // N\n",
        "  assert x + height <= N\n",
        "  assert y + width <= M\n",
        "  assert N * M >= n_filters\n",
        "  \n",
        "  fig, axs = plt.subplots(height, width)\n",
        "  fig.suptitle(title)\n",
        "  \n",
        "  for i in range(x, x+height):\n",
        "    for j in range(y, y+width):\n",
        "      if i*N + j < n_filters:\n",
        "        #axs[i][j].imshow(result[0, i*N + j].cpu().detach())\n",
        "        axs[i-x][j-y].imshow(result[0, i*N + j].cpu().detach())\n",
        "        axs[i-x][j-y].axis('off')\n",
        "        #plt.imshow(result[0, i*N + j].cpu().detach())"
      ]
    },
    {
      "cell_type": "code",
      "execution_count": 45,
      "metadata": {},
      "outputs": [
        {
          "name": "stdout",
          "output_type": "stream",
          "text": [
            "Output shape:torch.Size([1, 32, 128, 128]) width:5\n"
          ]
        },
        {
          "data": {
            "image/png": "[encoded data removed]",
            "text/plain": [
              "<Figure size 432x288 with 15 Axes>"
            ]
          },
          "metadata": {
            "needs_background": "light"
          },
          "output_type": "display_data"
        }
      ],
      "source": [
        "clipped = nn.Sequential(\n",
        "  *list(model.children())[:1]\n",
        ")\n",
        "#print(list(model.children()))\n",
        "\n",
        "input = train_dataset[0][0].unsqueeze(0)\n",
        "output = clipped(input.to(device))\n",
        "width = int(math.sqrt(output.shape[1]))\n",
        "print(f'Output shape:{output.shape} width:{width}')\n",
        "plot_intermediate_output(output, 'Layer', 0, 0, 3, 5)\n",
        "# TODO: \n",
        "# pick a few intermediate representations from your network and plot them using \n",
        "# the provided function."
      ]
    },
    {
      "cell_type": "code",
      "execution_count": 46,
      "metadata": {},
      "outputs": [],
      "source": [
        "file_dir = Path(f'{os.getcwd()}/models')\n",
        "file_dir.mkdir(parents=True, exist_ok=True)\n",
        "file_name = f'{datetime.datetime.now().strftime(\"%Y%m%d-%H%M%S\")}.pt'\n",
        "save_path = file_dir / file_name \n",
        "#torch.save(model.state_dict(), save_path)\n",
        "\n",
        "#torch.save(model.state_dict, )"
      ]
    },
    {
      "cell_type": "markdown",
      "metadata": {
        "id": "gGLDXme0RCIp"
      },
      "source": [
        "What can you say about those filters? What features are they focusing on?\n",
        "\n",
        "Anwer: `Your answer here`"
      ]
    }
  ],
  "metadata": {
    "accelerator": "GPU",
    "colab": {
      "collapsed_sections": [],
      "provenance": []
    },
    "kernelspec": {
      "display_name": "Python 3.9.13 ('pDL': conda)",
      "language": "python",
      "name": "python3"
    },
    "language_info": {
      "codemirror_mode": {
        "name": "ipython",
        "version": 3
      },
      "file_extension": ".py",
      "mimetype": "text/x-python",
      "name": "python",
      "nbconvert_exporter": "python",
      "pygments_lexer": "ipython3",
      "version": "3.9.13 | packaged by conda-forge | (main, May 27 2022, 16:56:21) \n[GCC 10.3.0]"
    },
    "vscode": {
      "interpreter": {
        "hash": "730b8a846e5fbc1c9bd432ae5f8035781806fbee589b6661e19f1ae991cfab52"
      }
    }
  },
  "nbformat": 4,
  "nbformat_minor": 0
}
