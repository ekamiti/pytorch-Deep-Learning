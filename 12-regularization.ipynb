{
 "cells": [
  {
   "cell_type": "markdown",
   "metadata": {},
   "source": [
    "## Regularisation in NNs¶"
   ]
  },
  {
   "cell_type": "markdown",
   "metadata": {},
   "source": [
    "Before we start doing anything, I think it's important to understand for NLP, this is the intuitive process on what we are trying to do when we are processing our data in the IMDB dataset:\n",
    "1. Tokenization: break sentence into individual words\n",
    "    - Before: `\"PyTorch seems really easy to use!\"`\n",
    "    - After: `[\"PyTorch\", \"seems\", \"really\", \"easy\", \"to\", \"use\", \"!\"]`\n",
    "2. Building vocabulary: build an index of words associated with unique numbers\n",
    "    - Before: `[\"PyTorch\", \"seems\", \"really\", \"easy\", \"to\", \"use\", \"!\"]`\n",
    "    - After: `{\"Pytorch: 0, \"seems\": 1, \"really\": 2, ...}`\n",
    "3. Convert to numerals: map words to unique numbers (indices)\n",
    "    - Before: `{\"Pytorch: 0, \"seems\": 1, \"really\": 2, ...}`\n",
    "    - After: `[0, 1, 2, ...]`\n",
    "4. Embedding look-up: map sentences (indices now) to fixed matrices\n",
    "    - ```[[0.1, 0.4, 0.3],\n",
    "       [0.8, 0.1, 0.5],\n",
    "       ...]```"
   ]
  },
  {
   "cell_type": "code",
   "execution_count": 3,
   "metadata": {},
   "outputs": [],
   "source": [
    "# Critical plotting imports\n",
    "import matplotlib.pyplot as plt\n",
    "%matplotlib inline\n",
    "\n",
    "# Checnking for module version \n",
    "from cmp_version import cmp_version \n",
    "\n",
    "# PyTorch imports\n",
    "from torchtext import __version__ as ttver\n",
    "# https://github.com/pytorch/text/releases/tag/v0.9.0-rc5\n",
    "if cmp_version(ttver,\"0.9.0\")>=0: \n",
    "    from torchtext.legacy import data, datasets\n",
    "else:\n",
    "    from torchtext import data, datasets\n",
    "import torch\n",
    "import torch.nn as nn\n",
    "import torch.nn.functional as F\n",
    "\n",
    "# Checking for iterable objects\n",
    "import collections\n",
    "import random"
   ]
  },
  {
   "cell_type": "code",
   "execution_count": 4,
   "metadata": {},
   "outputs": [],
   "source": [
    "# Set seed\n",
    "torch.manual_seed(1337)\n",
    "if torch.cuda.is_available():\n",
    "    torch.cuda.manual_seed_all(1337)"
   ]
  },
  {
   "cell_type": "code",
   "execution_count": 5,
   "metadata": {},
   "outputs": [],
   "source": [
    "# Set plotting style\n",
    "plt.style.use(('dark_background', 'bmh'))\n",
    "plt.rc('axes', facecolor='none')\n",
    "plt.rc('figure', figsize=(16, 4))"
   ]
  },
  {
   "cell_type": "code",
   "execution_count": 6,
   "metadata": {},
   "outputs": [],
   "source": [
    "# Create instances of fields\n",
    "# The important field here is fix_length: all examples using this field will be padded to, or None for flexible sequence lengths\n",
    "# We are fixing this because we will be using a FNN not an LSTM/RNN/GRU where we can go through uneven sequence lengths\n",
    "max_len = 80\n",
    "text = data.Field(sequential=True, fix_length=max_len, batch_first=True, lower=True, dtype=torch.long)\n",
    "label = data.LabelField(sequential=False, dtype=torch.float)"
   ]
  },
  {
   "cell_type": "code",
   "execution_count": 7,
   "metadata": {},
   "outputs": [
    {
     "name": "stdout",
     "output_type": "stream",
     "text": [
      "downloading aclImdb_v1.tar.gz\n"
     ]
    },
    {
     "name": "stderr",
     "output_type": "stream",
     "text": [
      "aclImdb_v1.tar.gz: 100%|██████████| 84.1M/84.1M [01:35<00:00, 879kB/s] \n"
     ]
    }
   ],
   "source": [
    "# Calling splits() class method of datasets.IMDB to return a torchtext.data.Dataset object\n",
    "datasets.IMDB.download('./')\n",
    "ds_train, ds_test = datasets.IMDB.splits(text, label, path='./imdb/aclImdb/')"
   ]
  },
  {
   "cell_type": "code",
   "execution_count": 8,
   "metadata": {},
   "outputs": [
    {
     "name": "stdout",
     "output_type": "stream",
     "text": [
      "train :  25000\n",
      "test :  25000\n",
      "train.fields : {'text': <torchtext.data.field.Field object at 0x7f2288407fd0>, 'label': <torchtext.data.field.LabelField object at 0x7f22bc491e80>}\n"
     ]
    }
   ],
   "source": [
    "# Training and test set each 25k samples\n",
    "# 2 fields due to the way we split above\n",
    "print('train : ', len(ds_train))\n",
    "print('test : ', len(ds_test))\n",
    "print('train.fields :', ds_train.fields)"
   ]
  },
  {
   "cell_type": "code",
   "execution_count": 9,
   "metadata": {},
   "outputs": [],
   "source": [
    "# Get validation set\n",
    "seed_num = 1337\n",
    "ds_train, ds_valid = ds_train.split(random_state=random.seed(seed_num))"
   ]
  },
  {
   "cell_type": "code",
   "execution_count": 10,
   "metadata": {},
   "outputs": [
    {
     "name": "stdout",
     "output_type": "stream",
     "text": [
      "train :  17500\n",
      "valid :  7500\n",
      "valid :  25000\n"
     ]
    }
   ],
   "source": [
    "# Now we've training, validation and test set\n",
    "print('train : ', len(ds_train))\n",
    "print('valid : ', len(ds_valid))\n",
    "print('valid : ', len(ds_test))"
   ]
  },
  {
   "cell_type": "code",
   "execution_count": 11,
   "metadata": {},
   "outputs": [],
   "source": [
    "# Build vocabulary\n",
    "# num_words = 25000\n",
    "num_words = 1000\n",
    "text.build_vocab(ds_train, max_size=num_words)\n",
    "label.build_vocab(ds_train)"
   ]
  },
  {
   "cell_type": "code",
   "execution_count": 12,
   "metadata": {},
   "outputs": [
    {
     "name": "stdout",
     "output_type": "stream",
     "text": [
      "Vocabulary size: 1002\n",
      "Label size: 2\n"
     ]
    }
   ],
   "source": [
    "# Print vocab size\n",
    "print('Vocabulary size: {}'.format(len(text.vocab)))\n",
    "print('Label size: {}'.format(len(label.vocab)))"
   ]
  },
  {
   "cell_type": "code",
   "execution_count": 13,
   "metadata": {},
   "outputs": [
    {
     "name": "stdout",
     "output_type": "stream",
     "text": [
      "[('the', 224168), ('a', 110990), ('and', 110299), ('of', 100428), ('to', 93062), ('is', 72441), ('in', 62906), ('i', 49714), ('this', 48864), ('that', 46090)]\n"
     ]
    }
   ],
   "source": [
    "# Print most common vocabulary text\n",
    "most_common_samples = 10\n",
    "print(text.vocab.freqs.most_common(most_common_samples))"
   ]
  },
  {
   "cell_type": "code",
   "execution_count": 14,
   "metadata": {},
   "outputs": [
    {
     "name": "stdout",
     "output_type": "stream",
     "text": [
      "[('neg', 8835), ('pos', 8665)]\n"
     ]
    }
   ],
   "source": [
    "# Print most common labels\n",
    "print(label.vocab.freqs.most_common())"
   ]
  },
  {
   "cell_type": "code",
   "execution_count": 15,
   "metadata": {},
   "outputs": [
    {
     "data": {
      "text/plain": [
       "'neg'"
      ]
     },
     "execution_count": 15,
     "metadata": {},
     "output_type": "execute_result"
    }
   ],
   "source": [
    "# Sample 0 label\n",
    "ds_train[0].label"
   ]
  },
  {
   "cell_type": "code",
   "execution_count": 16,
   "metadata": {
    "scrolled": true
   },
   "outputs": [
    {
     "data": {
      "text/plain": [
       "['this',\n",
       " 'movie',\n",
       " 'is',\n",
       " 'a',\n",
       " 'lot',\n",
       " 'like',\n",
       " 'the',\n",
       " 'movie',\n",
       " 'hostel,',\n",
       " 'except',\n",
       " 'with',\n",
       " '*bad*',\n",
       " 'acting',\n",
       " 'and',\n",
       " 'not',\n",
       " 'much',\n",
       " 'suspense.',\n",
       " 'the',\n",
       " 'gore',\n",
       " 'elements',\n",
       " 'are',\n",
       " 'there,',\n",
       " 'but',\n",
       " 'you',\n",
       " \"don't\",\n",
       " 'really',\n",
       " 'feel',\n",
       " 'anything',\n",
       " 'for',\n",
       " 'the',\n",
       " 'characters,',\n",
       " 'making',\n",
       " 'the',\n",
       " 'violence',\n",
       " 'not',\n",
       " 'very',\n",
       " 'effective.',\n",
       " 'some',\n",
       " 'parts',\n",
       " 'are',\n",
       " 'just',\n",
       " 'strange...',\n",
       " 'like',\n",
       " 'forcing',\n",
       " 'a',\n",
       " 'snake',\n",
       " 'down',\n",
       " 'someones',\n",
       " 'throat.',\n",
       " \"what's\",\n",
       " 'up',\n",
       " 'with',\n",
       " 'that?',\n",
       " 'is',\n",
       " 'that',\n",
       " 'supposed',\n",
       " 'to',\n",
       " 'be',\n",
       " 'scary',\n",
       " 'or',\n",
       " 'gory?',\n",
       " \"it's\",\n",
       " 'just',\n",
       " 'kind',\n",
       " 'of',\n",
       " 'stupid.',\n",
       " 'as',\n",
       " 'for',\n",
       " 'torture,',\n",
       " 'there',\n",
       " 'really',\n",
       " \"isn't\",\n",
       " 'any',\n",
       " '(except',\n",
       " 'for',\n",
       " 'the',\n",
       " 'guy',\n",
       " 'getting',\n",
       " 'blow-torched',\n",
       " 'in',\n",
       " 'the',\n",
       " 'beginning,',\n",
       " 'which',\n",
       " 'they',\n",
       " \"don't\",\n",
       " 'show',\n",
       " 'anyway).',\n",
       " 'the',\n",
       " 'main',\n",
       " 'bad',\n",
       " 'guy',\n",
       " 'keeps',\n",
       " 'saying',\n",
       " '\"make',\n",
       " 'them',\n",
       " 'die',\n",
       " 'slowly\",',\n",
       " 'yet',\n",
       " 'the',\n",
       " 'butcher',\n",
       " 'kills',\n",
       " 'them',\n",
       " 'all',\n",
       " 'very',\n",
       " 'fast.',\n",
       " 'the',\n",
       " 'deaths',\n",
       " 'are',\n",
       " 'all',\n",
       " 'relatively',\n",
       " 'quick.',\n",
       " 'yes,',\n",
       " 'i',\n",
       " 'did',\n",
       " 'watch',\n",
       " 'the',\n",
       " '\"unrated\"',\n",
       " 'version.',\n",
       " 'so,',\n",
       " 'overall,',\n",
       " 'not',\n",
       " 'the',\n",
       " 'worst',\n",
       " 'gore',\n",
       " 'movie',\n",
       " \"i've\",\n",
       " 'seen,',\n",
       " 'but',\n",
       " 'not',\n",
       " 'at',\n",
       " 'all',\n",
       " 'good',\n",
       " 'either.',\n",
       " 'you',\n",
       " \"won't\",\n",
       " 'miss',\n",
       " 'anything',\n",
       " 'if',\n",
       " 'you',\n",
       " 'skip',\n",
       " 'this',\n",
       " 'one.']"
      ]
     },
     "execution_count": 16,
     "metadata": {},
     "output_type": "execute_result"
    }
   ],
   "source": [
    "# Sample 0 text: broken down into individual portions\n",
    "ds_train[0].text"
   ]
  },
  {
   "cell_type": "code",
   "execution_count": 17,
   "metadata": {},
   "outputs": [
    {
     "name": "stdout",
     "output_type": "stream",
     "text": [
      "this movie is a lot like the movie hostel, except with *bad* acting and not much suspense. the gore elements are there, but you don't really feel anything for the characters, making the violence not very effective. some parts are just strange... like forcing a snake down someones throat. what's up with that? is that supposed to be scary or gory? it's just kind of stupid. as for torture, there really isn't any (except for the guy getting blow-torched in the beginning, which they don't show anyway). the main bad guy keeps saying \"make them die slowly\", yet the butcher kills them all very fast. the deaths are all relatively quick. yes, i did watch the \"unrated\" version. so, overall, not the worst gore movie i've seen, but not at all good either. you won't miss anything if you skip this one.\n"
     ]
    }
   ],
   "source": [
    "# Sample 0 text: human readeable sample\n",
    "def show_text(sample):\n",
    "    print(' '.join(word for word in sample))\n",
    "    \n",
    "show_text(ds_train[0].text)"
   ]
  },
  {
   "cell_type": "code",
   "execution_count": 18,
   "metadata": {},
   "outputs": [],
   "source": [
    "# Create and iterable object for our training, validation and testing datasets\n",
    "# Batches examples of similar lengths together that minimizes amount of padding needed\n",
    "batch_size = 64  # Change batch size from 1 to bigger number once explanation is done\n",
    "train_loader, valid_loader, test_loader = data.BucketIterator.splits(\n",
    "    (ds_train, ds_valid, ds_test), batch_size=batch_size, sort_key=lambda x: len(x.text), repeat=False\n",
    ")"
   ]
  },
  {
   "cell_type": "code",
   "execution_count": 19,
   "metadata": {},
   "outputs": [
    {
     "name": "stderr",
     "output_type": "stream",
     "text": [
      "/tmp/ipykernel_800/2146645314.py:2: DeprecationWarning: Using or importing the ABCs from 'collections' instead of from 'collections.abc' is deprecated since Python 3.3, and in 3.10 it will stop working\n",
      "  isinstance(train_loader, collections.Iterable)\n"
     ]
    },
    {
     "data": {
      "text/plain": [
       "True"
      ]
     },
     "execution_count": 19,
     "metadata": {},
     "output_type": "execute_result"
    }
   ],
   "source": [
    "# Check if iterator above is an iterable which should show True\n",
    "isinstance(train_loader, collections.Iterable)"
   ]
  },
  {
   "cell_type": "code",
   "execution_count": 20,
   "metadata": {},
   "outputs": [
    {
     "data": {
      "text/plain": [
       "\n",
       "[torchtext.data.batch.Batch of size 64]\n",
       "\t[.text]:[torch.LongTensor of size 64x80]\n",
       "\t[.label]:[torch.FloatTensor of size 64]"
      ]
     },
     "execution_count": 20,
     "metadata": {},
     "output_type": "execute_result"
    }
   ],
   "source": [
    "# What's inside this iteratable object? Our text and label although now everything is in machine format (not \"words\") but in numbers!\n",
    "# The text we saw above becomes a matrix of size 1 x 80 represented by the fixed length we defined before that\n",
    "list(train_loader)[0]"
   ]
  },
  {
   "cell_type": "code",
   "execution_count": 21,
   "metadata": {},
   "outputs": [
    {
     "data": {
      "text/plain": [
       "\n",
       "[torchtext.data.batch.Batch of size 64]\n",
       "\t[.text]:[torch.LongTensor of size 64x80]\n",
       "\t[.label]:[torch.FloatTensor of size 64]"
      ]
     },
     "execution_count": 21,
     "metadata": {},
     "output_type": "execute_result"
    }
   ],
   "source": [
    "# Alternative to above, this is much faster but the above code is easy to understand and implement\n",
    "next(train_loader.__iter__())"
   ]
  },
  {
   "cell_type": "code",
   "execution_count": 22,
   "metadata": {},
   "outputs": [],
   "source": [
    "test_batch = next(train_loader.__iter__())"
   ]
  },
  {
   "cell_type": "code",
   "execution_count": 23,
   "metadata": {},
   "outputs": [
    {
     "data": {
      "text/plain": [
       "dict_keys(['text', 'label'])"
      ]
     },
     "execution_count": 23,
     "metadata": {},
     "output_type": "execute_result"
    }
   ],
   "source": [
    "# What methods can we call on this batch object? Text and label\n",
    "test_batch.fields"
   ]
  },
  {
   "cell_type": "code",
   "execution_count": 24,
   "metadata": {},
   "outputs": [
    {
     "data": {
      "text/plain": [
       "tensor([[ 12,  53,   0,  ..., 176,   6,  28],\n",
       "        [  0, 189, 201,  ...,   0,   0,  56],\n",
       "        [308, 945,   2,  ...,  83, 211,   0],\n",
       "        ...,\n",
       "        [  0,  29,   2,  ...,  76,   0,  25],\n",
       "        [  0,   0,   0,  ...,  76,   7,   0],\n",
       "        [ 32, 357, 631,  ...,   0,  27,   0]])"
      ]
     },
     "execution_count": 24,
     "metadata": {},
     "output_type": "execute_result"
    }
   ],
   "source": [
    "# Let's break this down to check what's in a batch\n",
    "test_batch.text"
   ]
  },
  {
   "cell_type": "code",
   "execution_count": 25,
   "metadata": {},
   "outputs": [
    {
     "data": {
      "text/plain": [
       "torch.Size([64, 80])"
      ]
     },
     "execution_count": 25,
     "metadata": {},
     "output_type": "execute_result"
    }
   ],
   "source": [
    "# 1 comment per batch, each comment is limited to a size of 80 as we've defined\n",
    "test_batch.text.size()"
   ]
  },
  {
   "cell_type": "code",
   "execution_count": 26,
   "metadata": {},
   "outputs": [
    {
     "data": {
      "text/plain": [
       "tensor([1., 0., 0., 1., 1., 0., 1., 1., 1., 1., 0., 0., 1., 0., 1., 0., 0., 0.,\n",
       "        1., 0., 1., 0., 0., 0., 1., 0., 1., 0., 0., 0., 0., 1., 0., 1., 1., 1.,\n",
       "        0., 1., 1., 0., 1., 1., 1., 0., 0., 0., 0., 0., 0., 1., 0., 1., 0., 0.,\n",
       "        1., 1., 0., 0., 0., 1., 0., 1., 0., 1.])"
      ]
     },
     "execution_count": 26,
     "metadata": {},
     "output_type": "execute_result"
    }
   ],
   "source": [
    "test_batch.label"
   ]
  },
  {
   "cell_type": "code",
   "execution_count": 27,
   "metadata": {},
   "outputs": [],
   "source": [
    "# Extremely weird problem in torchtext where BucketIterator returns a Batch object versus just a simple tuple of tensors containing our text index and labels\n",
    "# So let's fix this with a new class FixBatchGenerator\n",
    "\n",
    "class FixBatchGenerator:\n",
    "    def __init__(self, dl, x_field, y_field):\n",
    "        self.dl, self.x_field, self.y_field = dl, x_field, y_field\n",
    "        \n",
    "    def __len__(self):\n",
    "        return len(self.dl)\n",
    "    \n",
    "    def __iter__(self):\n",
    "        for batch in self.dl:\n",
    "            X = getattr(batch, self.x_field)\n",
    "            y = getattr(batch, self.y_field)\n",
    "            yield (X,y)\n",
    "            \n",
    "train_loader, valid_loader, test_loader = FixBatchGenerator(train_loader, 'text', 'label'), FixBatchGenerator(valid_loader, 'text', 'label'), FixBatchGenerator(test_loader, 'text', 'label')"
   ]
  },
  {
   "cell_type": "code",
   "execution_count": 28,
   "metadata": {},
   "outputs": [
    {
     "name": "stdout",
     "output_type": "stream",
     "text": [
      "tensor([[  0,   6,   2,  ...,  48, 155,   0],\n",
      "        [404,  24,  11,  ...,   1,   1,   1],\n",
      "        [ 10,   0,  14,  ...,  79,   2, 740],\n",
      "        ...,\n",
      "        [  0,  29,   3,  ...,   2, 231,  11],\n",
      "        [  9,  98,   2,  ...,  17,  10, 714],\n",
      "        [ 10,   7, 295,  ...,  16,   2,  82]])\n",
      "tensor([1., 0., 0., 0., 1., 0., 0., 1., 1., 1., 0., 0., 1., 1., 0., 1., 0., 1.,\n",
      "        0., 1., 1., 1., 0., 1., 1., 1., 1., 0., 0., 1., 1., 0., 1., 1., 0., 0.,\n",
      "        0., 1., 1., 1., 1., 1., 0., 1., 1., 1., 0., 1., 1., 1., 1., 0., 0., 1.,\n",
      "        0., 0., 0., 0., 1., 1., 1., 0., 1., 0.])\n"
     ]
    }
   ],
   "source": [
    "# Text index\n",
    "print(next(train_loader.__iter__())[0])\n",
    "\n",
    "# Text label\n",
    "print(next(train_loader.__iter__())[1])"
   ]
  },
  {
   "cell_type": "code",
   "execution_count": 29,
   "metadata": {},
   "outputs": [],
   "source": [
    "class FeedforwardNeuralNetModel(nn.Module):\n",
    "    def __init__(self, input_dim, embedding_dim, hidden_dim, output_dim):\n",
    "        super(FeedforwardNeuralNetModel, self).__init__()\n",
    "        self.input_dim = input_dim\n",
    "        self.embdedding_dim = embedding_dim\n",
    "        self.hidden_dim = hidden_dim\n",
    "        self.output_dim = output_dim\n",
    "        # Embedding layer\n",
    "        self.embedding = nn.Embedding(self.input_dim, self.embedding_dim)\n",
    "        \n",
    "        # Linear function\n",
    "        self.fc1 = nn.Linear(\n",
    "            self.embedding_dim * self.embedding_dim, self.hidden_dim) \n",
    "\n",
    "        # Linear function (readout)\n",
    "        self.fc2 = nn.Linear(self.hidden_dim, self.output_dim)\n",
    "        \n",
    "    def forward(self, x):\n",
    "        # Embedding\n",
    "        embedded = self.embedding(x)\n",
    "        embedded = embedded.view(-1, self.embedding_dim * self.embedding_dim)\n",
    "        # Linear function\n",
    "        out = self.fc1(embedded)\n",
    "\n",
    "        # Non-linearity\n",
    "        out = torch.relu(out)\n",
    "        \n",
    "        # Toggle 3: Dropout\n",
    "        # out = torch.dropout(out, 0.8)\n",
    "\n",
    "        # Linear function (readout)\n",
    "        # Take note here use a final sigmoid function so your loss should not go\n",
    "        # through sigmoid again.\n",
    "        # BCELoss is the right class to use as it doesn't pass your output\n",
    "        # through a sigmoid function again.\n",
    "        # In multi-class problems you're used to softmax which can be \n",
    "        # simplified to a logistic,\n",
    "        # function when you have a two-class problem.\n",
    "        out = self.fc2(out)\n",
    "        out = torch.sigmoid(out)\n",
    "    \n",
    "        return out"
   ]
  },
  {
   "cell_type": "code",
   "execution_count": 30,
   "metadata": {},
   "outputs": [],
   "source": [
    "input_dim = num_words + 2\n",
    "embedding_dim = max_len\n",
    "hidden_dim = 32\n",
    "output_dim = 1\n",
    "\n",
    "# Instantiate model class and assign to object\n",
    "model = FeedforwardNeuralNetModel(\n",
    "    input_dim, embedding_dim, hidden_dim, output_dim)\n",
    "\n",
    "# Push model to CUDA device if available\n",
    "device = torch.device(\"cuda:0\" if torch.cuda.is_available() else \"cpu\")\n",
    "model.to(device)\n",
    "\n",
    "# Loss function\n",
    "criterion = nn.BCELoss()\n",
    "\n",
    "# Optimizer\n",
    "# Toggle 2: L2 Norm option - this is called weight decay\n",
    "# optimizer = torch.optim.Adam(model.parameters(), lr=1e-3, weight_decay=0.005)\n",
    "optimizer = torch.optim.Adam(model.parameters(), lr=1e-3)"
   ]
  },
  {
   "cell_type": "code",
   "execution_count": 31,
   "metadata": {},
   "outputs": [
    {
     "name": "stdout",
     "output_type": "stream",
     "text": [
      "FeedforwardNeuralNetModel(\n",
      "  (embedding): Embedding(1002, 80)\n",
      "  (fc1): Linear(in_features=6400, out_features=32, bias=True)\n",
      "  (fc2): Linear(in_features=32, out_features=1, bias=True)\n",
      ")\n"
     ]
    }
   ],
   "source": [
    "print(model)"
   ]
  },
  {
   "cell_type": "code",
   "execution_count": 32,
   "metadata": {},
   "outputs": [
    {
     "name": "stdout",
     "output_type": "stream",
     "text": [
      "Number of groups of parameters 5\n",
      "--------------------------------------------------\n",
      "torch.Size([1002, 80])\n",
      "torch.Size([32, 6400])\n",
      "torch.Size([32])\n",
      "torch.Size([1, 32])\n",
      "torch.Size([1])\n",
      "--------------------------------------------------\n"
     ]
    }
   ],
   "source": [
    "# Number of groups of parameters\n",
    "print('Number of groups of parameters {}'.format(len(list(model.parameters()))))\n",
    "print('-'*50)\n",
    "# Print parameters\n",
    "for i in range(len(list(model.parameters()))):\n",
    "    print(list(model.parameters())[i].size())\n",
    "print('-'*50)"
   ]
  },
  {
   "cell_type": "code",
   "execution_count": 33,
   "metadata": {
    "scrolled": true
   },
   "outputs": [
    {
     "name": "stdout",
     "output_type": "stream",
     "text": [
      "Iter: 100 | Train Loss: 0.6755295991897583 | Val Loss: 0.7050830125808716 | Val Accuracy: 53.61\n",
      "Iter: 200 | Train Loss: 0.6719903349876404 | Val Loss: 0.6675786972045898 | Val Accuracy: 54.23\n",
      "Iter: 300 | Train Loss: 0.5782257318496704 | Val Loss: 0.8285976648330688 | Val Accuracy: 57.8\n",
      "Iter: 400 | Train Loss: 0.4806446135044098 | Val Loss: 0.7255233526229858 | Val Accuracy: 59.05\n",
      "Iter: 500 | Train Loss: 0.5569229125976562 | Val Loss: 0.6713067889213562 | Val Accuracy: 60.84\n",
      "Iter: 600 | Train Loss: 0.4356842339038849 | Val Loss: 0.7809162139892578 | Val Accuracy: 61.72\n",
      "Iter: 700 | Train Loss: 0.4135752022266388 | Val Loss: 0.6379590630531311 | Val Accuracy: 63.08\n",
      "Iter: 800 | Train Loss: 0.4290046989917755 | Val Loss: 0.6794511675834656 | Val Accuracy: 62.97\n",
      "Iter: 900 | Train Loss: 0.32238900661468506 | Val Loss: 0.8009654879570007 | Val Accuracy: 64.11\n",
      "Iter: 1000 | Train Loss: 0.23772001266479492 | Val Loss: 1.0143206119537354 | Val Accuracy: 63.91\n",
      "Iter: 1100 | Train Loss: 0.10088986903429031 | Val Loss: 0.9395437240600586 | Val Accuracy: 64.09\n",
      "Iter: 1200 | Train Loss: 0.11268158257007599 | Val Loss: 0.9476261138916016 | Val Accuracy: 64.2\n",
      "Iter: 1300 | Train Loss: 0.09992417693138123 | Val Loss: 0.942253589630127 | Val Accuracy: 63.24\n",
      "Iter: 1400 | Train Loss: 0.11414428055286407 | Val Loss: 1.0718584060668945 | Val Accuracy: 64.52\n",
      "Iter: 1500 | Train Loss: 0.10408461838960648 | Val Loss: 1.2411389350891113 | Val Accuracy: 64.35\n",
      "Iter: 1600 | Train Loss: 0.036316655576229095 | Val Loss: 1.1377696990966797 | Val Accuracy: 64.21\n",
      "Iter: 1700 | Train Loss: 0.033185046166181564 | Val Loss: 1.5746142864227295 | Val Accuracy: 65.23\n",
      "Iter: 1800 | Train Loss: 0.017130132764577866 | Val Loss: 1.5252288579940796 | Val Accuracy: 65.04\n",
      "Iter: 1900 | Train Loss: 0.03384201601147652 | Val Loss: 1.331122636795044 | Val Accuracy: 65.01\n",
      "Iter: 2000 | Train Loss: 0.014771318063139915 | Val Loss: 1.5927581787109375 | Val Accuracy: 65.0\n",
      "Iter: 2100 | Train Loss: 0.004968884401023388 | Val Loss: 1.554157018661499 | Val Accuracy: 65.29\n",
      "Iter: 2200 | Train Loss: 0.015070687048137188 | Val Loss: 1.7067632675170898 | Val Accuracy: 65.23\n",
      "Iter: 2300 | Train Loss: 0.00583580881357193 | Val Loss: 1.6769053936004639 | Val Accuracy: 65.15\n",
      "Iter: 2400 | Train Loss: 0.0029650493524968624 | Val Loss: 1.8175756931304932 | Val Accuracy: 65.39\n",
      "Iter: 2500 | Train Loss: 0.0019530258141458035 | Val Loss: 1.782798171043396 | Val Accuracy: 65.19\n",
      "Iter: 2600 | Train Loss: 0.0018931948579847813 | Val Loss: 1.7899808883666992 | Val Accuracy: 65.03\n",
      "Iter: 2700 | Train Loss: 0.0013404537457972765 | Val Loss: 1.9454383850097656 | Val Accuracy: 65.07\n"
     ]
    }
   ],
   "source": [
    "iter = 0\n",
    "num_epochs = 10\n",
    "history_train_acc, history_val_acc, history_train_loss, history_val_loss = [], [], [], []\n",
    "best_accuracy = 0\n",
    "for epoch in range(num_epochs):\n",
    "#     print('-'*50)\n",
    "    for i, (samples, labels) in enumerate(train_loader):\n",
    "        # Training mode\n",
    "        model.train()\n",
    "        \n",
    "        # Load samples\n",
    "        samples = samples.view(-1, max_len).to(device)\n",
    "        labels = labels.view(-1, 1).to(device)\n",
    "\n",
    "        # Clear gradients w.r.t. parameters\n",
    "        optimizer.zero_grad()\n",
    "\n",
    "        # Forward pass to get output/logits\n",
    "        outputs = model(samples)\n",
    "\n",
    "        # Calculate Loss: softmax --> cross entropy loss\n",
    "        loss = criterion(outputs, labels)\n",
    "        \n",
    "        # Toggle 1: L1 norm, add to original loss\n",
    "        # fc1_params = torch.cat([x.view(-1) for x in model.fc1.parameters()])\n",
    "        # loss += 0.001 * torch.norm(fc1_params, 1)\n",
    "    \n",
    "        # Getting gradients w.r.t. parameters\n",
    "        loss.backward()\n",
    "\n",
    "        # Updating parameters\n",
    "        optimizer.step()\n",
    "\n",
    "        iter += 1\n",
    "\n",
    "        if iter % 100 == 0:\n",
    "            # Get training statistics\n",
    "            train_loss = loss.data.item()\n",
    "            \n",
    "            # Testing mode\n",
    "            model.eval()\n",
    "            # Calculate Accuracy         \n",
    "            correct = 0\n",
    "            total = 0\n",
    "            # Iterate through test dataset\n",
    "            for samples, labels in valid_loader:\n",
    "                # Load samples\n",
    "                samples = samples.view(-1, max_len).to(device)\n",
    "                labels = labels.view(-1).to(device)\n",
    "\n",
    "                # Forward pass only to get logits/output\n",
    "                outputs = model(samples)\n",
    "                \n",
    "                # Val loss\n",
    "                val_loss = criterion(outputs.view(-1, 1), labels.view(-1, 1))\n",
    "                \n",
    "                # We use a threshold to define. \n",
    "                # There is another way to do this with one-hot label. Feel free to explore and understand what are the pros/cons of each.\n",
    "                # This opens up a whole topic on why it becomes problematic when we expand beyond 2 class to 10 classes.\n",
    "                # Why do we encode? Why can't we do 0, 1, 2, 3, 4 etc. without one-hot encoding?\n",
    "                predicted = outputs.ge(0.5).view(-1)\n",
    "\n",
    "                # Total number of labels\n",
    "                total += labels.size(0)\n",
    "\n",
    "                # Total correct predictions\n",
    "                correct += (predicted.type(torch.FloatTensor).cpu() == labels.type(torch.FloatTensor)).sum().item()\n",
    "                # correct = (predicted == labels.byte()).int().sum().item()\n",
    "            \n",
    "            accuracy = 100. * correct / total\n",
    "        \n",
    "            # Print Loss\n",
    "            print('Iter: {} | Train Loss: {} | Val Loss: {} | Val Accuracy: {}'.format(iter, train_loss, val_loss.item(), round(accuracy, 2)))\n",
    "            \n",
    "            # Append to history\n",
    "            history_val_loss.append(val_loss.data.item())\n",
    "            history_val_acc.append(round(accuracy, 2))\n",
    "            history_train_loss.append(train_loss)\n",
    "            \n",
    "            # Save model when accuracy beats best accuracy\n",
    "            if accuracy > best_accuracy:\n",
    "                best_accuracy = accuracy\n",
    "                # We can load this best model on the validation set later\n",
    "                torch.save(model.state_dict(), 'best_model.pth')"
   ]
  },
  {
   "cell_type": "code",
   "execution_count": 34,
   "metadata": {},
   "outputs": [
    {
     "data": {
      "image/png": "[encoded data removed]",
      "text/plain": [
       "<Figure size 1152x288 with 1 Axes>"
      ]
     },
     "metadata": {},
     "output_type": "display_data"
    }
   ],
   "source": [
    "# Plotting loss graph\n",
    "plt.plot(history_train_loss, label='Train')\n",
    "plt.plot(history_val_loss, label='Validation')\n",
    "plt.title('Loss Graph')\n",
    "plt.legend()\n",
    "plt.show()"
   ]
  },
  {
   "cell_type": "code",
   "execution_count": 35,
   "metadata": {},
   "outputs": [
    {
     "data": {
      "text/plain": [
       "Text(0.5, 1.0, 'Validation Accuracy')"
      ]
     },
     "execution_count": 35,
     "metadata": {},
     "output_type": "execute_result"
    },
    {
     "data": {
      "image/png": "[encoded data removed]",
      "text/plain": [
       "<Figure size 1152x288 with 1 Axes>"
      ]
     },
     "metadata": {},
     "output_type": "display_data"
    }
   ],
   "source": [
    "# Plotting validation accuracy graph\n",
    "plt.plot(history_val_acc)\n",
    "plt.title('Validation Accuracy')"
   ]
  },
  {
   "cell_type": "code",
   "execution_count": 36,
   "metadata": {},
   "outputs": [
    {
     "name": "stdout",
     "output_type": "stream",
     "text": [
      "torch.Size([1002, 80])\n",
      "torch.Size([32, 6400])\n",
      "torch.Size([32])\n",
      "torch.Size([1, 32])\n",
      "torch.Size([1])\n"
     ]
    }
   ],
   "source": [
    "weights = torch.Tensor().to(device)\n",
    "for param_group in list(model.parameters()):\n",
    "    weights = torch.cat((param_group.view(-1), weights))\n",
    "    print(param_group.size())\n",
    "    \n",
    "# Toggle 0: No regularization\n",
    "weights_nothing = weights.cpu().detach().numpy()\n",
    "\n",
    "# Toggle 1: L1 norm on FC1\n",
    "# weights_L1 = weights.detach().numpy()\n",
    "\n",
    "# Toggle 2: L2 norm\n",
    "# weights_L2 = weights.detach().numpy()\n",
    "\n",
    "# Toggle 3: dropout\n",
    "# weights_dropout = weights.detach().numpy()"
   ]
  },
  {
   "cell_type": "code",
   "execution_count": null,
   "metadata": {},
   "outputs": [],
   "source": [
    "# plt.hist(weights_L1.reshape(-1), range=(-.5, .5), bins=20)"
   ]
  },
  {
   "cell_type": "code",
   "execution_count": null,
   "metadata": {},
   "outputs": [],
   "source": [
    "# plt.hist(weights_nothing.reshape(-1), range=(-.5, .5), bins=20)"
   ]
  },
  {
   "cell_type": "code",
   "execution_count": null,
   "metadata": {},
   "outputs": [],
   "source": [
    "# Show weight distribution\n",
    "plt.hist((\n",
    "    weights_nothing.reshape(-1),\n",
    "    weights_L1.reshape(-1),\n",
    "    weights_L2.reshape(-1),\n",
    "), 49, range=(-.5, .5), label=(\n",
    "    'No-reg',\n",
    "    'L1',\n",
    "    'L2',\n",
    "))\n",
    "plt.legend();"
   ]
  },
  {
   "cell_type": "code",
   "execution_count": null,
   "metadata": {},
   "outputs": [],
   "source": []
  }
 ],
 "metadata": {
  "kernelspec": {
   "display_name": "Python 3.9.13 ('pDL': conda)",
   "language": "python",
   "name": "python3"
  },
  "language_info": {
   "codemirror_mode": {
    "name": "ipython",
    "version": 3
   },
   "file_extension": ".py",
   "mimetype": "text/x-python",
   "name": "python",
   "nbconvert_exporter": "python",
   "pygments_lexer": "ipython3",
   "version": "3.9.13"
  },
  "vscode": {
   "interpreter": {
    "hash": "730b8a846e5fbc1c9bd432ae5f8035781806fbee589b6661e19f1ae991cfab52"
   }
  }
 },
 "nbformat": 4,
 "nbformat_minor": 4
}
